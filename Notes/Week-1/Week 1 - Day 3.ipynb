{
 "cells": [
  {
   "cell_type": "markdown",
   "metadata": {},
   "source": [
    "# Recap on List Comprehensions"
   ]
  },
  {
   "cell_type": "raw",
   "metadata": {},
   "source": [
    "Create a list of numbers that are even and divisible by 3 from 0 to 100"
   ]
  },
  {
   "cell_type": "code",
   "execution_count": 7,
   "metadata": {},
   "outputs": [
    {
     "data": {
      "text/plain": [
       "[0, 6, 12, 18, 24, 30, 36, 42, 48, 54, 60, 66, 72, 78, 84, 90, 96]"
      ]
     },
     "execution_count": 7,
     "metadata": {},
     "output_type": "execute_result"
    }
   ],
   "source": [
    "[t for t in range(0,100) if t%6==0]"
   ]
  },
  {
   "cell_type": "markdown",
   "metadata": {},
   "source": [
    "Create a list of numbers from -100 to 100 that follow certain conditions:\n",
    "- odd\n",
    "- the squared value of the number should be divisible by 9"
   ]
  },
  {
   "cell_type": "code",
   "execution_count": 10,
   "metadata": {},
   "outputs": [
    {
     "data": {
      "text/plain": [
       "[-99,\n",
       " -93,\n",
       " -87,\n",
       " -81,\n",
       " -75,\n",
       " -69,\n",
       " -63,\n",
       " -57,\n",
       " -51,\n",
       " -45,\n",
       " -39,\n",
       " -33,\n",
       " -27,\n",
       " -21,\n",
       " -15,\n",
       " -9,\n",
       " -3,\n",
       " 3,\n",
       " 9,\n",
       " 15,\n",
       " 21,\n",
       " 27,\n",
       " 33,\n",
       " 39,\n",
       " 45,\n",
       " 51,\n",
       " 57,\n",
       " 63,\n",
       " 69,\n",
       " 75,\n",
       " 81,\n",
       " 87,\n",
       " 93,\n",
       " 99]"
      ]
     },
     "execution_count": 10,
     "metadata": {},
     "output_type": "execute_result"
    }
   ],
   "source": [
    "[t for t in range(-99,100,2) if t%3==0]"
   ]
  },
  {
   "cell_type": "markdown",
   "metadata": {},
   "source": [
    "## Text Intro"
   ]
  },
  {
   "cell_type": "code",
   "execution_count": 3,
   "metadata": {},
   "outputs": [],
   "source": [
    "txt = \"Hello world\""
   ]
  },
  {
   "cell_type": "code",
   "execution_count": 4,
   "metadata": {},
   "outputs": [
    {
     "data": {
      "text/plain": [
       "'Hello world'"
      ]
     },
     "execution_count": 4,
     "metadata": {},
     "output_type": "execute_result"
    }
   ],
   "source": [
    "txt"
   ]
  },
  {
   "cell_type": "code",
   "execution_count": 5,
   "metadata": {},
   "outputs": [
    {
     "name": "stdout",
     "output_type": "stream",
     "text": [
      "Hallo! Wie geht's,Leo\n"
     ]
    }
   ],
   "source": [
    "txt = input('Hallo! Wie geht\\'s')"
   ]
  },
  {
   "cell_type": "raw",
   "metadata": {},
   "source": [
    "Split method always return a list, independent if it splits something or not."
   ]
  },
  {
   "cell_type": "code",
   "execution_count": null,
   "metadata": {},
   "outputs": [],
   "source": []
  },
  {
   "cell_type": "markdown",
   "metadata": {},
   "source": [
    "## Splitting and stripping"
   ]
  },
  {
   "cell_type": "code",
   "execution_count": null,
   "metadata": {},
   "outputs": [],
   "source": []
  },
  {
   "cell_type": "code",
   "execution_count": 21,
   "metadata": {},
   "outputs": [],
   "source": [
    "sentence = \"I really love my sweet thing\""
   ]
  },
  {
   "cell_type": "code",
   "execution_count": null,
   "metadata": {},
   "outputs": [],
   "source": []
  },
  {
   "cell_type": "code",
   "execution_count": 16,
   "metadata": {},
   "outputs": [
    {
     "data": {
      "text/plain": [
       "['I', 'really', 'love', 'my', 'sweet', 'thing']"
      ]
     },
     "execution_count": 16,
     "metadata": {},
     "output_type": "execute_result"
    }
   ],
   "source": [
    "sentence.split()"
   ]
  },
  {
   "cell_type": "code",
   "execution_count": null,
   "metadata": {},
   "outputs": [],
   "source": []
  },
  {
   "cell_type": "code",
   "execution_count": 11,
   "metadata": {},
   "outputs": [
    {
     "data": {
      "text/plain": [
       "['I really love', 'sweet thing']"
      ]
     },
     "execution_count": 11,
     "metadata": {},
     "output_type": "execute_result"
    }
   ],
   "source": [
    "sentence.split(' my ')"
   ]
  },
  {
   "cell_type": "code",
   "execution_count": 12,
   "metadata": {},
   "outputs": [
    {
     "data": {
      "text/plain": [
       "['I really love my sweet thing']"
      ]
     },
     "execution_count": 12,
     "metadata": {},
     "output_type": "execute_result"
    }
   ],
   "source": [
    "sentence.split('u')"
   ]
  },
  {
   "cell_type": "code",
   "execution_count": 14,
   "metadata": {},
   "outputs": [
    {
     "data": {
      "text/plain": [
       "['Champs Élys', '', 's']"
      ]
     },
     "execution_count": 14,
     "metadata": {},
     "output_type": "execute_result"
    }
   ],
   "source": [
    "\"Champs Élysees\".split('e')"
   ]
  },
  {
   "cell_type": "code",
   "execution_count": 22,
   "metadata": {},
   "outputs": [
    {
     "data": {
      "text/plain": [
       "' really love my sweet thing'"
      ]
     },
     "execution_count": 22,
     "metadata": {},
     "output_type": "execute_result"
    }
   ],
   "source": [
    "sentence.strip(\"I\")"
   ]
  },
  {
   "cell_type": "code",
   "execution_count": 24,
   "metadata": {},
   "outputs": [],
   "source": [
    "sentence = 'Freds friends fried fritos for Fridays food'"
   ]
  },
  {
   "cell_type": "code",
   "execution_count": null,
   "metadata": {},
   "outputs": [],
   "source": []
  },
  {
   "cell_type": "code",
   "execution_count": 25,
   "metadata": {},
   "outputs": [
    {
     "data": {
      "text/plain": [
       "'reds friends fried fritos for Fridays food'"
      ]
     },
     "execution_count": 25,
     "metadata": {},
     "output_type": "execute_result"
    }
   ],
   "source": [
    "sentence.strip('F')"
   ]
  },
  {
   "cell_type": "code",
   "execution_count": 27,
   "metadata": {},
   "outputs": [
    {
     "data": {
      "text/plain": [
       "'reds friends fried fritos for Fridays food'"
      ]
     },
     "execution_count": 27,
     "metadata": {},
     "output_type": "execute_result"
    }
   ],
   "source": [
    "sentence.strip('F.')"
   ]
  },
  {
   "cell_type": "code",
   "execution_count": 28,
   "metadata": {},
   "outputs": [
    {
     "data": {
      "text/plain": [
       "'Freds friends fried fritos for Fridays food'"
      ]
     },
     "execution_count": 28,
     "metadata": {},
     "output_type": "execute_result"
    }
   ],
   "source": [
    "sentence.strip('.r')"
   ]
  },
  {
   "cell_type": "code",
   "execution_count": 30,
   "metadata": {},
   "outputs": [
    {
     "data": {
      "text/plain": [
       "'iends fried fritos for Friday'"
      ]
     },
     "execution_count": 30,
     "metadata": {},
     "output_type": "execute_result"
    }
   ],
   "source": [
    "sentence.strip('.rFdofes ')"
   ]
  },
  {
   "cell_type": "code",
   "execution_count": 31,
   "metadata": {},
   "outputs": [
    {
     "data": {
      "text/plain": [
       "'iends fried fritos for Fridays food'"
      ]
     },
     "execution_count": 31,
     "metadata": {},
     "output_type": "execute_result"
    }
   ],
   "source": [
    "sentence.lstrip('.rFdofes ')"
   ]
  },
  {
   "cell_type": "code",
   "execution_count": 33,
   "metadata": {},
   "outputs": [
    {
     "data": {
      "text/plain": [
       "'Freds friends fried fritos for Friday'"
      ]
     },
     "execution_count": 33,
     "metadata": {},
     "output_type": "execute_result"
    }
   ],
   "source": [
    "sentence.rstrip('.rFdofes ')"
   ]
  },
  {
   "cell_type": "code",
   "execution_count": null,
   "metadata": {},
   "outputs": [],
   "source": []
  },
  {
   "cell_type": "code",
   "execution_count": 34,
   "metadata": {},
   "outputs": [],
   "source": [
    "lyrics=\"\"\"I'm blue da ba dee da ba daa\n",
    "Da ba dee da ba daa, da ba dee da ba daa, da ba dee da ba daa\n",
    "Da ba dee da ba daa, da ba dee da ba daa, da ba dee da ba daa\"\"\""
   ]
  },
  {
   "cell_type": "code",
   "execution_count": 37,
   "metadata": {},
   "outputs": [
    {
     "data": {
      "text/plain": [
       "[\"I'm\",\n",
       " 'blue',\n",
       " 'da',\n",
       " 'ba',\n",
       " 'dee',\n",
       " 'da',\n",
       " 'ba',\n",
       " 'daa\\nDa',\n",
       " 'ba',\n",
       " 'dee',\n",
       " 'da',\n",
       " 'ba',\n",
       " 'daa,',\n",
       " 'da',\n",
       " 'ba',\n",
       " 'dee',\n",
       " 'da',\n",
       " 'ba',\n",
       " 'daa,',\n",
       " 'da',\n",
       " 'ba',\n",
       " 'dee',\n",
       " 'da',\n",
       " 'ba',\n",
       " 'daa\\nDa',\n",
       " 'ba',\n",
       " 'dee',\n",
       " 'da',\n",
       " 'ba',\n",
       " 'daa,',\n",
       " 'da',\n",
       " 'ba',\n",
       " 'dee',\n",
       " 'da',\n",
       " 'ba',\n",
       " 'daa,',\n",
       " 'da',\n",
       " 'ba',\n",
       " 'dee',\n",
       " 'da',\n",
       " 'ba',\n",
       " 'daa']"
      ]
     },
     "execution_count": 37,
     "metadata": {},
     "output_type": "execute_result"
    }
   ],
   "source": [
    "lyrics.split(\" \")"
   ]
  },
  {
   "cell_type": "code",
   "execution_count": 45,
   "metadata": {},
   "outputs": [
    {
     "data": {
      "text/plain": [
       "\"I'm blue da ba dee da ba daaDa ba dee da ba daa, da ba dee da ba daa, da ba dee da ba daaDa ba dee da ba daa, da ba dee da ba daa, da ba dee da ba daa\""
      ]
     },
     "execution_count": 45,
     "metadata": {},
     "output_type": "execute_result"
    }
   ],
   "source": [
    "\"\".join(lyrics.split(\"\\n\"))"
   ]
  },
  {
   "cell_type": "code",
   "execution_count": null,
   "metadata": {},
   "outputs": [],
   "source": []
  },
  {
   "cell_type": "code",
   "execution_count": null,
   "metadata": {},
   "outputs": [],
   "source": []
  },
  {
   "cell_type": "code",
   "execution_count": 66,
   "metadata": {},
   "outputs": [
    {
     "data": {
      "text/plain": [
       "['im',\n",
       " 'blue',\n",
       " 'da',\n",
       " 'ba',\n",
       " 'dee',\n",
       " 'da',\n",
       " 'ba',\n",
       " 'daa',\n",
       " 'da',\n",
       " 'ba',\n",
       " 'dee',\n",
       " 'da',\n",
       " 'ba',\n",
       " 'daa',\n",
       " 'da',\n",
       " 'ba',\n",
       " 'dee',\n",
       " 'da',\n",
       " 'ba',\n",
       " 'daa',\n",
       " 'da',\n",
       " 'ba',\n",
       " 'dee',\n",
       " 'da',\n",
       " 'ba',\n",
       " 'daa',\n",
       " 'da',\n",
       " 'ba',\n",
       " 'dee',\n",
       " 'da',\n",
       " 'ba',\n",
       " 'daa',\n",
       " 'da',\n",
       " 'ba',\n",
       " 'dee',\n",
       " 'da',\n",
       " 'ba',\n",
       " 'daa',\n",
       " 'da',\n",
       " 'ba',\n",
       " 'dee',\n",
       " 'da',\n",
       " 'ba',\n",
       " 'daa']"
      ]
     },
     "execution_count": 66,
     "metadata": {},
     "output_type": "execute_result"
    }
   ],
   "source": [
    "(\"\".join(\"\".join(lyrics.split(\",\")).split(\"'\")).lower()).split()"
   ]
  },
  {
   "cell_type": "code",
   "execution_count": null,
   "metadata": {},
   "outputs": [],
   "source": []
  },
  {
   "cell_type": "code",
   "execution_count": 64,
   "metadata": {},
   "outputs": [],
   "source": [
    "lyrics2 = (\"\".join(\"\".join(\" \".join((lyrics.split(\"\\n\"))).split(\",\")).split(\"'\")).lower()).split()"
   ]
  },
  {
   "cell_type": "code",
   "execution_count": 65,
   "metadata": {},
   "outputs": [
    {
     "data": {
      "text/plain": [
       "[('dee', 7), ('ba', 14), ('im', 1), ('da', 14), ('blue', 1), ('daa', 7)]"
      ]
     },
     "execution_count": 65,
     "metadata": {},
     "output_type": "execute_result"
    }
   ],
   "source": [
    "[(i,lyrics2.count(i)) for i in set(lyrics2)]"
   ]
  },
  {
   "cell_type": "code",
   "execution_count": null,
   "metadata": {},
   "outputs": [],
   "source": []
  },
  {
   "cell_type": "raw",
   "metadata": {},
   "source": [
    "Solution from the teacher:"
   ]
  },
  {
   "cell_type": "code",
   "execution_count": null,
   "metadata": {},
   "outputs": [],
   "source": []
  },
  {
   "cell_type": "code",
   "execution_count": 69,
   "metadata": {},
   "outputs": [
    {
     "data": {
      "text/plain": [
       "{\"i'm\": 1, 'blue': 1, 'da': 14, 'ba': 14, 'dee': 7, 'daa': 7}"
      ]
     },
     "execution_count": 69,
     "metadata": {},
     "output_type": "execute_result"
    }
   ],
   "source": [
    "words = [word.strip(',.!_?').lower() for word in lyrics.split()]\n",
    "{i:words.count(i) for i in words}"
   ]
  },
  {
   "cell_type": "code",
   "execution_count": 70,
   "metadata": {},
   "outputs": [
    {
     "data": {
      "text/plain": [
       "{'i': 1, 'm': 1, 'blue': 1, 'da': 14, 'ba': 14, 'dee': 7, 'daa': 7}"
      ]
     },
     "execution_count": 70,
     "metadata": {},
     "output_type": "execute_result"
    }
   ],
   "source": [
    "words = [word.strip(',.!_?').lower() for word in lyrics.replace(\"'\",\" \").split()]\n",
    "{i:words.count(i) for i in words}"
   ]
  },
  {
   "cell_type": "code",
   "execution_count": null,
   "metadata": {},
   "outputs": [],
   "source": []
  },
  {
   "cell_type": "raw",
   "metadata": {},
   "source": [
    "Print a list of words that start with d:"
   ]
  },
  {
   "cell_type": "code",
   "execution_count": 72,
   "metadata": {},
   "outputs": [
    {
     "data": {
      "text/plain": [
       "['da',\n",
       " 'dee',\n",
       " 'da',\n",
       " 'daa',\n",
       " 'da',\n",
       " 'dee',\n",
       " 'da',\n",
       " 'daa,',\n",
       " 'da',\n",
       " 'dee',\n",
       " 'da',\n",
       " 'daa,',\n",
       " 'da',\n",
       " 'dee',\n",
       " 'da',\n",
       " 'daa',\n",
       " 'da',\n",
       " 'dee',\n",
       " 'da',\n",
       " 'daa,',\n",
       " 'da',\n",
       " 'dee',\n",
       " 'da',\n",
       " 'daa,',\n",
       " 'da',\n",
       " 'dee',\n",
       " 'da',\n",
       " 'daa']"
      ]
     },
     "execution_count": 72,
     "metadata": {},
     "output_type": "execute_result"
    }
   ],
   "source": [
    "lst_d=[]\n",
    "for word in lyrics.lower().split():\n",
    "    if word[0]=='d':\n",
    "        lst_d.append(word)\n",
    "lst_d"
   ]
  },
  {
   "cell_type": "code",
   "execution_count": 73,
   "metadata": {},
   "outputs": [
    {
     "data": {
      "text/plain": [
       "['da',\n",
       " 'dee',\n",
       " 'da',\n",
       " 'daa',\n",
       " 'da',\n",
       " 'dee',\n",
       " 'da',\n",
       " 'daa,',\n",
       " 'da',\n",
       " 'dee',\n",
       " 'da',\n",
       " 'daa,',\n",
       " 'da',\n",
       " 'dee',\n",
       " 'da',\n",
       " 'daa',\n",
       " 'da',\n",
       " 'dee',\n",
       " 'da',\n",
       " 'daa,',\n",
       " 'da',\n",
       " 'dee',\n",
       " 'da',\n",
       " 'daa,',\n",
       " 'da',\n",
       " 'dee',\n",
       " 'da',\n",
       " 'daa']"
      ]
     },
     "execution_count": 73,
     "metadata": {},
     "output_type": "execute_result"
    }
   ],
   "source": [
    "[word for word in lyrics.lower().split() if word[0]=='d']"
   ]
  },
  {
   "cell_type": "code",
   "execution_count": 74,
   "metadata": {},
   "outputs": [
    {
     "data": {
      "text/plain": [
       "['da',\n",
       " 'dee',\n",
       " 'da',\n",
       " 'daa',\n",
       " 'da',\n",
       " 'dee',\n",
       " 'da',\n",
       " 'daa,',\n",
       " 'da',\n",
       " 'dee',\n",
       " 'da',\n",
       " 'daa,',\n",
       " 'da',\n",
       " 'dee',\n",
       " 'da',\n",
       " 'daa',\n",
       " 'da',\n",
       " 'dee',\n",
       " 'da',\n",
       " 'daa,',\n",
       " 'da',\n",
       " 'dee',\n",
       " 'da',\n",
       " 'daa,',\n",
       " 'da',\n",
       " 'dee',\n",
       " 'da',\n",
       " 'daa']"
      ]
     },
     "execution_count": 74,
     "metadata": {},
     "output_type": "execute_result"
    }
   ],
   "source": [
    "[word for word in lyrics.lower().split() if word.startswith('d')]"
   ]
  },
  {
   "cell_type": "code",
   "execution_count": 76,
   "metadata": {},
   "outputs": [
    {
     "data": {
      "text/plain": [
       "['daa', 'daa', 'daa']"
      ]
     },
     "execution_count": 76,
     "metadata": {},
     "output_type": "execute_result"
    }
   ],
   "source": [
    "[word for word in lyrics.lower().split() if word.endswith('aa')]"
   ]
  },
  {
   "cell_type": "code",
   "execution_count": null,
   "metadata": {},
   "outputs": [],
   "source": []
  },
  {
   "cell_type": "code",
   "execution_count": 77,
   "metadata": {},
   "outputs": [
    {
     "data": {
      "text/plain": [
       "False"
      ]
     },
     "execution_count": 77,
     "metadata": {},
     "output_type": "execute_result"
    }
   ],
   "source": [
    "lyrics.istitle()"
   ]
  },
  {
   "cell_type": "code",
   "execution_count": 78,
   "metadata": {},
   "outputs": [
    {
     "data": {
      "text/plain": [
       "['Da', 'Da']"
      ]
     },
     "execution_count": 78,
     "metadata": {},
     "output_type": "execute_result"
    }
   ],
   "source": [
    "[i for i in lyrics.split() if i.istitle()]"
   ]
  },
  {
   "cell_type": "code",
   "execution_count": 79,
   "metadata": {},
   "outputs": [
    {
     "data": {
      "text/plain": [
       "[]"
      ]
     },
     "execution_count": 79,
     "metadata": {},
     "output_type": "execute_result"
    }
   ],
   "source": [
    "[i for i in lyrics.split() if i.isupper()]"
   ]
  },
  {
   "cell_type": "code",
   "execution_count": 80,
   "metadata": {},
   "outputs": [
    {
     "data": {
      "text/plain": [
       "{'ba', 'blue', 'da', 'daa', 'daa,', 'dee'}"
      ]
     },
     "execution_count": 80,
     "metadata": {},
     "output_type": "execute_result"
    }
   ],
   "source": [
    "{i for i in lyrics.split() if i.islower()}"
   ]
  },
  {
   "cell_type": "code",
   "execution_count": 82,
   "metadata": {},
   "outputs": [
    {
     "data": {
      "text/plain": [
       "\"I'm blue da ba MONKEY da ba daa\\nDa ba MONKEY da ba daa, da ba MONKEY da ba daa, da ba MONKEY da ba daa\\nDa ba MONKEY da ba daa, da ba MONKEY da ba daa, da ba MONKEY da ba daa\""
      ]
     },
     "execution_count": 82,
     "metadata": {},
     "output_type": "execute_result"
    }
   ],
   "source": [
    "lyrics.replace('dee', 'MONKEY')"
   ]
  },
  {
   "cell_type": "code",
   "execution_count": 83,
   "metadata": {},
   "outputs": [
    {
     "data": {
      "text/plain": [
       "\"I'm blue da ba MONKEY da ba daa\\nDa ba MONKEY da ba daa, da ba dee da ba daa, da ba dee da ba daa\\nDa ba dee da ba daa, da ba dee da ba daa, da ba dee da ba daa\""
      ]
     },
     "execution_count": 83,
     "metadata": {},
     "output_type": "execute_result"
    }
   ],
   "source": [
    "lyrics.replace('dee', 'MONKEY',2)"
   ]
  },
  {
   "cell_type": "code",
   "execution_count": null,
   "metadata": {},
   "outputs": [],
   "source": []
  },
  {
   "cell_type": "code",
   "execution_count": null,
   "metadata": {},
   "outputs": [],
   "source": []
  },
  {
   "cell_type": "markdown",
   "metadata": {},
   "source": [
    "## Text Decryption"
   ]
  },
  {
   "cell_type": "code",
   "execution_count": 111,
   "metadata": {},
   "outputs": [],
   "source": [
    "encrypted_text=\"\"\"GFS WMY OG LGDVS MF SFNKYHOSU ESLLMRS, PC WS BFGW POL DMFRQMRS, PL OG CPFU M UPCCSKSFO HDMPFOSXO GC OIS LMES DMFRQMRS DGFR SFGQRI OG CPDD GFS LISSO GK LG, MFU OISF WS NGQFO OIS GNNQKKSFNSL GC SMNI DSOOSK. WS NMDD OIS EGLO CKSJQSFODY GNNQKKPFR DSOOSK OIS 'CPKLO', OIS FSXO EGLO GNNQKKPFR DSOOSK OIS 'LSNGFU' OIS CGDDGWPFR EGLO GNNQKKPFR DSOOSK OIS 'OIPKU', MFU LG GF, QFOPD WS MNNGQFO CGK MDD OIS UPCCSKSFO DSOOSKL PF OIS HDMPFOSXO LMEHDS. OISF WS DGGB MO OIS NPHISK OSXO WS WMFO OG LGDVS MFU WS MDLG NDMLLPCY POL LYEAGDL. WS CPFU OIS EGLO GNNQKKPFR LYEAGD MFU NIMFRS PO OG OIS CGKE GC OIS 'CPKLO' DSOOSK GC OIS HDMPFOSXO LMEHDS, OIS FSXO EGLO NGEEGF LYEAGD PL NIMFRSU OG OIS CGKE GC OIS 'LSNGFU' DSOOSK, MFU OIS CGDDGWPFR EGLO NGEEGF LYEAGD PL NIMFRSU OG OIS CGKE GC OIS 'OIPKU' DSOOSK, MFU LG GF, QFOPD WS MNNGQFO CGK MDD LYEAGDL GC OIS NKYHOGRKME WS WMFO OG LGDVS.\"\"\""
   ]
  },
  {
   "cell_type": "code",
   "execution_count": 112,
   "metadata": {},
   "outputs": [
    {
     "data": {
      "text/plain": [
       "\"GFS WMY OG LGDVS MF SFNKYHOSU ESLLMRS, PC WS BFGW POL DMFRQMRS, PL OG CPFU M UPCCSKSFO HDMPFOSXO GC OIS LMES DMFRQMRS DGFR SFGQRI OG CPDD GFS LISSO GK LG, MFU OISF WS NGQFO OIS GNNQKKSFNSL GC SMNI DSOOSK. WS NMDD OIS EGLO CKSJQSFODY GNNQKKPFR DSOOSK OIS 'CPKLO', OIS FSXO EGLO GNNQKKPFR DSOOSK OIS 'LSNGFU' OIS CGDDGWPFR EGLO GNNQKKPFR DSOOSK OIS 'OIPKU', MFU LG GF, QFOPD WS MNNGQFO CGK MDD OIS UPCCSKSFO DSOOSKL PF OIS HDMPFOSXO LMEHDS. OISF WS DGGB MO OIS NPHISK OSXO WS WMFO OG LGDVS MFU WS MDLG NDMLLPCY POL LYEAGDL. WS CPFU OIS EGLO GNNQKKPFR LYEAGD MFU NIMFRS PO OG OIS CGKE GC OIS 'CPKLO' DSOOSK GC OIS HDMPFOSXO LMEHDS, OIS FSXO EGLO NGEEGF LYEAGD PL NIMFRSU OG OIS CGKE GC OIS 'LSNGFU' DSOOSK, MFU OIS CGDDGWPFR EGLO NGEEGF LYEAGD PL NIMFRSU OG OIS CGKE GC OIS 'OIPKU' DSOOSK, MFU LG GF, QFOPD WS MNNGQFO CGK MDD LYEAGDL GC OIS NKYHOGRKME WS WMFO OG LGDVS.\""
      ]
     },
     "execution_count": 112,
     "metadata": {},
     "output_type": "execute_result"
    }
   ],
   "source": [
    "encrypted_text"
   ]
  },
  {
   "cell_type": "code",
   "execution_count": 113,
   "metadata": {},
   "outputs": [],
   "source": [
    "freq_dict = {letter: encrypted_text.count(letter) for letter in encrypted_text}"
   ]
  },
  {
   "cell_type": "code",
   "execution_count": 114,
   "metadata": {},
   "outputs": [
    {
     "data": {
      "text/plain": [
       "{' ': 158,\n",
       " 'S': 88,\n",
       " 'O': 85,\n",
       " 'G': 67,\n",
       " 'F': 51,\n",
       " 'D': 42,\n",
       " 'L': 39,\n",
       " 'M': 35,\n",
       " 'K': 35,\n",
       " 'I': 33,\n",
       " 'P': 30,\n",
       " 'N': 29,\n",
       " 'C': 26,\n",
       " 'E': 23,\n",
       " 'U': 17,\n",
       " 'R': 17,\n",
       " 'W': 16,\n",
       " 'Q': 14,\n",
       " \"'\": 12,\n",
       " 'Y': 10,\n",
       " ',': 10,\n",
       " 'H': 8,\n",
       " 'X': 6,\n",
       " 'A': 5,\n",
       " '.': 4,\n",
       " 'V': 3,\n",
       " 'B': 2,\n",
       " 'J': 1}"
      ]
     },
     "execution_count": 114,
     "metadata": {},
     "output_type": "execute_result"
    }
   ],
   "source": [
    "import operator\n",
    "dict(sorted(freq_dict.items(), key=operator.itemgetter(1), reverse=True))"
   ]
  },
  {
   "cell_type": "code",
   "execution_count": null,
   "metadata": {},
   "outputs": [],
   "source": []
  },
  {
   "cell_type": "raw",
   "metadata": {},
   "source": [
    "As we can see, the most frequent letter in this text is 'S'.\n",
    "The most frequent letter in this text should correspond to the most frequent letter in English language. From our expert knowledge, we deduce that letter 'S' in our text corresponds to the letter 'e'."
   ]
  },
  {
   "cell_type": "code",
   "execution_count": 117,
   "metadata": {},
   "outputs": [],
   "source": [
    "encrypted_text = encrypted_text.replace('S', 'e')"
   ]
  },
  {
   "cell_type": "code",
   "execution_count": 116,
   "metadata": {},
   "outputs": [
    {
     "data": {
      "text/plain": [
       "\"GFS WMY tG LGDVS MF SFNKYHtSU ESLLMRS, PC WS BFGW PtL DMFRQMRS, PL tG CPFU M UPCCSKSFt HDMPFtSXt GC thS LMES DMFRQMRS DGFR SFGQRh tG CPDD GFS LhSSt GK LG, MFU thSF WS NGQFt thS GNNQKKSFNSL GC SMNh DSttSK. WS NMDD thS EGLt CKSJQSFtDY GNNQKKPFR DSttSK thS 'CPKLt', thS FSXt EGLt GNNQKKPFR DSttSK thS 'LSNGFU' thS CGDDGWPFR EGLt GNNQKKPFR DSttSK thS 'thPKU', MFU LG GF, QFtPD WS MNNGQFt CGK MDD thS UPCCSKSFt DSttSKL PF thS HDMPFtSXt LMEHDS. thSF WS DGGB Mt thS NPHhSK tSXt WS WMFt tG LGDVS MFU WS MDLG NDMLLPCY PtL LYEAGDL. WS CPFU thS EGLt GNNQKKPFR LYEAGD MFU NhMFRS Pt tG thS CGKE GC thS 'CPKLt' DSttSK GC thS HDMPFtSXt LMEHDS, thS FSXt EGLt NGEEGF LYEAGD PL NhMFRSU tG thS CGKE GC thS 'LSNGFU' DSttSK, MFU thS CGDDGWPFR EGLt NGEEGF LYEAGD PL NhMFRSU tG thS CGKE GC thS 'thPKU' DSttSK, MFU LG GF, QFtPD WS MNNGQFt CGK MDD LYEAGDL GC thS NKYHtGRKME WS WMFt tG LGDVS.\""
      ]
     },
     "execution_count": 116,
     "metadata": {},
     "output_type": "execute_result"
    }
   ],
   "source": [
    "encrypted_text = encrypted_text.replace('O', 't').replace('I','h')\n",
    "encrypted_text"
   ]
  },
  {
   "cell_type": "code",
   "execution_count": null,
   "metadata": {},
   "outputs": [],
   "source": []
  },
  {
   "cell_type": "code",
   "execution_count": 118,
   "metadata": {},
   "outputs": [
    {
     "data": {
      "text/plain": [
       "\"oFe WMY to LoDVe MF eFNKYHteU EeLLMRe, PC We BFoW PtL DMFRQMRe, PL to CPFU M UPCCeKeFt HDMPFteXt oC the LMEe DMFRQMRe DoFR eFoQRh to CPDD oFe Lheet oK Lo, MFU theF We NoQFt the oNNQKKeFNeL oC eMNh DetteK. We NMDD the EoLt CKeJQeFtDY oNNQKKPFR DetteK the 'CPKLt', the FeXt EoLt oNNQKKPFR DetteK the 'LeNoFU' the CoDDoWPFR EoLt oNNQKKPFR DetteK the 'thPKU', MFU Lo oF, QFtPD We MNNoQFt CoK MDD the UPCCeKeFt DetteKL PF the HDMPFteXt LMEHDe. theF We DooB Mt the NPHheK teXt We WMFt to LoDVe MFU We MDLo NDMLLPCY PtL LYEAoDL. We CPFU the EoLt oNNQKKPFR LYEAoD MFU NhMFRe Pt to the CoKE oC the 'CPKLt' DetteK oC the HDMPFteXt LMEHDe, the FeXt EoLt NoEEoF LYEAoD PL NhMFReU to the CoKE oC the 'LeNoFU' DetteK, MFU the CoDDoWPFR EoLt NoEEoF LYEAoD PL NhMFReU to the CoKE oC the 'thPKU' DetteK, MFU Lo oF, QFtPD We MNNoQFt CoK MDD LYEAoDL oC the NKYHtoRKME We WMFt to LoDVe.\""
      ]
     },
     "execution_count": 118,
     "metadata": {},
     "output_type": "execute_result"
    }
   ],
   "source": [
    "encrypted_text = encrypted_text.replace('G', 'o')\n",
    "encrypted_text"
   ]
  },
  {
   "cell_type": "code",
   "execution_count": 120,
   "metadata": {},
   "outputs": [
    {
     "data": {
      "text/plain": [
       "\"one WMY to LoDVe Mn enNKYHteU EeLLMge, PC We BnoW PtL DMnguMge, PL to CPnU M UPCCeKent HDMPnteXt oC the LMEe DMnguMge Dong enough to CPDD one Lheet oK Lo, MnU then We Nount the oNNuKKenNeL oC eMNh DetteK. We NMDD the EoLt CKeJuentDY oNNuKKPng DetteK the 'CPKLt', the neXt EoLt oNNuKKPng DetteK the 'LeNonU' the CoDDoWPng EoLt oNNuKKPng DetteK the 'thPKU', MnU Lo on, untPD We MNNount CoK MDD the UPCCeKent DetteKL Pn the HDMPnteXt LMEHDe. then We DooB Mt the NPHheK teXt We WMnt to LoDVe MnU We MDLo NDMLLPCY PtL LYEAoDL. We CPnU the EoLt oNNuKKPng LYEAoD MnU NhMnge Pt to the CoKE oC the 'CPKLt' DetteK oC the HDMPnteXt LMEHDe, the neXt EoLt NoEEon LYEAoD PL NhMngeU to the CoKE oC the 'LeNonU' DetteK, MnU the CoDDoWPng EoLt NoEEon LYEAoD PL NhMngeU to the CoKE oC the 'thPKU' DetteK, MnU Lo on, untPD We MNNount CoK MDD LYEAoDL oC the NKYHtogKME We WMnt to LoDVe.\""
      ]
     },
     "execution_count": 120,
     "metadata": {},
     "output_type": "execute_result"
    }
   ],
   "source": [
    "encrypted_text = encrypted_text.replace('F', 'n')\n",
    "encrypted_text"
   ]
  },
  {
   "cell_type": "code",
   "execution_count": null,
   "metadata": {},
   "outputs": [],
   "source": [
    "encrypted_text = encrypted_text.replace('Q', 'u').replace('R','g')\n",
    "encrypted_text"
   ]
  },
  {
   "cell_type": "code",
   "execution_count": 121,
   "metadata": {},
   "outputs": [
    {
     "data": {
      "text/plain": [
       "\"one WMY to LolVe Mn enNKYHteU EeLLMge, Pf We BnoW PtL lMnguMge, PL to fPnU M UPffeKent HlMPnteXt of the LMEe lMnguMge long enough to fPll one Lheet oK Lo, MnU then We Nount the oNNuKKenNeL of eMNh letteK. We NMll the EoLt fKeJuentlY oNNuKKPng letteK the 'fPKLt', the neXt EoLt oNNuKKPng letteK the 'LeNonU' the folloWPng EoLt oNNuKKPng letteK the 'thPKU', MnU Lo on, untPl We MNNount foK Mll the UPffeKent letteKL Pn the HlMPnteXt LMEHle. then We looB Mt the NPHheK teXt We WMnt to LolVe MnU We MlLo NlMLLPfY PtL LYEAolL. We fPnU the EoLt oNNuKKPng LYEAol MnU NhMnge Pt to the foKE of the 'fPKLt' letteK of the HlMPnteXt LMEHle, the neXt EoLt NoEEon LYEAol PL NhMngeU to the foKE of the 'LeNonU' letteK, MnU the folloWPng EoLt NoEEon LYEAol PL NhMngeU to the foKE of the 'thPKU' letteK, MnU Lo on, untPl We MNNount foK Mll LYEAolL of the NKYHtogKME We WMnt to LolVe.\""
      ]
     },
     "execution_count": 121,
     "metadata": {},
     "output_type": "execute_result"
    }
   ],
   "source": [
    "encrypted_text = encrypted_text.replace('D', 'l').replace('C','f')\n",
    "encrypted_text"
   ]
  },
  {
   "cell_type": "code",
   "execution_count": 122,
   "metadata": {},
   "outputs": [
    {
     "data": {
      "text/plain": [
       "\"one WMy to LolVe Mn enNryHteU EeLLMge, Pf We BnoW PtL lMnguMge, PL to fPnU M UPfferent HlMPnteXt of the LMEe lMnguMge long enough to fPll one Lheet or Lo, MnU then We Nount the oNNurrenNeL of eMNh letter. We NMll the EoLt frequently oNNurrPng letter the 'fPrLt', the neXt EoLt oNNurrPng letter the 'LeNonU' the folloWPng EoLt oNNurrPng letter the 'thPrU', MnU Lo on, untPl We MNNount for Mll the UPfferent letterL Pn the HlMPnteXt LMEHle. then We looB Mt the NPHher teXt We WMnt to LolVe MnU We MlLo NlMLLPfy PtL LyEAolL. We fPnU the EoLt oNNurrPng LyEAol MnU NhMnge Pt to the forE of the 'fPrLt' letter of the HlMPnteXt LMEHle, the neXt EoLt NoEEon LyEAol PL NhMngeU to the forE of the 'LeNonU' letter, MnU the folloWPng EoLt NoEEon LyEAol PL NhMngeU to the forE of the 'thPrU' letter, MnU Lo on, untPl We MNNount for Mll LyEAolL of the NryHtogrME We WMnt to LolVe.\""
      ]
     },
     "execution_count": 122,
     "metadata": {},
     "output_type": "execute_result"
    }
   ],
   "source": [
    "encrypted_text = encrypted_text.replace('K', 'r').replace('J','q').replace('Y','y')\n",
    "encrypted_text"
   ]
  },
  {
   "cell_type": "code",
   "execution_count": 123,
   "metadata": {},
   "outputs": [
    {
     "data": {
      "text/plain": [
       "\"one Way to LolVe an enNryHted EeLLage, if We BnoW itL language, iL to find a different HlainteXt of the LaEe language long enough to fill one Lheet or Lo, and then We Nount the oNNurrenNeL of eaNh letter. We Nall the EoLt frequently oNNurring letter the 'firLt', the neXt EoLt oNNurring letter the 'LeNond' the folloWing EoLt oNNurring letter the 'third', and Lo on, until We aNNount for all the different letterL in the HlainteXt LaEHle. then We looB at the NiHher teXt We Want to LolVe and We alLo NlaLLify itL LyEAolL. We find the EoLt oNNurring LyEAol and Nhange it to the forE of the 'firLt' letter of the HlainteXt LaEHle, the neXt EoLt NoEEon LyEAol iL Nhanged to the forE of the 'LeNond' letter, and the folloWing EoLt NoEEon LyEAol iL Nhanged to the forE of the 'third' letter, and Lo on, until We aNNount for all LyEAolL of the NryHtograE We Want to LolVe.\""
      ]
     },
     "execution_count": 123,
     "metadata": {},
     "output_type": "execute_result"
    }
   ],
   "source": [
    "encrypted_text = encrypted_text.replace('M', 'a').replace('P','i').replace('U','d')\n",
    "encrypted_text"
   ]
  },
  {
   "cell_type": "code",
   "execution_count": 124,
   "metadata": {},
   "outputs": [
    {
     "data": {
      "text/plain": [
       "\"one Way to LolVe an encrypted meLLage, if We BnoW itL language, iL to find a different plaintext of the Lame language long enough to fill one Lheet or Lo, and then We count the occurrenceL of each letter. We call the moLt frequently occurring letter the 'firLt', the next moLt occurring letter the 'Lecond' the folloWing moLt occurring letter the 'third', and Lo on, until We account for all the different letterL in the plaintext Lample. then We looB at the cipher text We Want to LolVe and We alLo claLLify itL LymbolL. We find the moLt occurring Lymbol and change it to the form of the 'firLt' letter of the plaintext Lample, the next moLt common Lymbol iL changed to the form of the 'Lecond' letter, and the folloWing moLt common Lymbol iL changed to the form of the 'third' letter, and Lo on, until We account for all LymbolL of the cryptogram We Want to LolVe.\""
      ]
     },
     "execution_count": 124,
     "metadata": {},
     "output_type": "execute_result"
    }
   ],
   "source": [
    "encrypted_text = encrypted_text.replace('N','c').replace('H','p').replace('E','m').replace('X','x').replace('A', 'b')\n",
    "encrypted_text"
   ]
  },
  {
   "cell_type": "code",
   "execution_count": 125,
   "metadata": {},
   "outputs": [
    {
     "data": {
      "text/plain": [
       "\"one Way to solve an encrypted message, if We BnoW its language, is to find a different plaintext of the same language long enough to fill one sheet or so, and then We count the occurrences of each letter. We call the most frequently occurring letter the 'first', the next most occurring letter the 'second' the folloWing most occurring letter the 'third', and so on, until We account for all the different letters in the plaintext sample. then We looB at the cipher text We Want to solve and We also classify its symbols. We find the most occurring symbol and change it to the form of the 'first' letter of the plaintext sample, the next most common symbol is changed to the form of the 'second' letter, and the folloWing most common symbol is changed to the form of the 'third' letter, and so on, until We account for all symbols of the cryptogram We Want to solve.\""
      ]
     },
     "execution_count": 125,
     "metadata": {},
     "output_type": "execute_result"
    }
   ],
   "source": [
    "encrypted_text = encrypted_text.replace('L','s').replace('V', 'v')\n",
    "encrypted_text"
   ]
  },
  {
   "cell_type": "code",
   "execution_count": 127,
   "metadata": {},
   "outputs": [
    {
     "data": {
      "text/plain": [
       "\"one way to solve an encrypted message, if we know its language, is to find a different plaintext of the same language long enough to fill one sheet or so, and then we count the occurrences of each letter. we call the most frequently occurring letter the 'first', the next most occurring letter the 'second' the following most occurring letter the 'third', and so on, until we account for all the different letters in the plaintext sample. then we look at the cipher text we want to solve and we also classify its symbols. we find the most occurring symbol and change it to the form of the 'first' letter of the plaintext sample, the next most common symbol is changed to the form of the 'second' letter, and the following most common symbol is changed to the form of the 'third' letter, and so on, until we account for all symbols of the cryptogram we want to solve.\""
      ]
     },
     "execution_count": 127,
     "metadata": {},
     "output_type": "execute_result"
    }
   ],
   "source": [
    "encrypted_text = encrypted_text.replace('B','k').replace('W', 'w')\n",
    "encrypted_text"
   ]
  },
  {
   "cell_type": "code",
   "execution_count": null,
   "metadata": {},
   "outputs": [],
   "source": []
  },
  {
   "cell_type": "markdown",
   "metadata": {},
   "source": [
    "# [Rr]eg[Ee]xp? Lab\n"
   ]
  },
  {
   "cell_type": "code",
   "execution_count": 164,
   "metadata": {},
   "outputs": [],
   "source": [
    "txt = \"In the beginning of 2020 nobody could have expect what would happen next.\""
   ]
  },
  {
   "cell_type": "code",
   "execution_count": 165,
   "metadata": {},
   "outputs": [
    {
     "data": {
      "text/plain": [
       "'In the beginning of 2020 nobody could have expect what would happen next.'"
      ]
     },
     "execution_count": 165,
     "metadata": {},
     "output_type": "execute_result"
    }
   ],
   "source": [
    "txt"
   ]
  },
  {
   "cell_type": "code",
   "execution_count": 166,
   "metadata": {},
   "outputs": [
    {
     "data": {
      "text/plain": [
       "['2020']"
      ]
     },
     "execution_count": 166,
     "metadata": {},
     "output_type": "execute_result"
    }
   ],
   "source": [
    "[i for i in txt.split() if len(i)==4 and i.isdigit()]"
   ]
  },
  {
   "cell_type": "code",
   "execution_count": null,
   "metadata": {},
   "outputs": [],
   "source": [
    "re.findall(r\"\\b[A-Za-z]*w[A-Za-z][aeiouy][A-Za-z]*\\b\",txt)"
   ]
  },
  {
   "cell_type": "code",
   "execution_count": 154,
   "metadata": {},
   "outputs": [],
   "source": [
    "txt = \"In the beginning of 90s nobody could have expect what would happen next.\""
   ]
  },
  {
   "cell_type": "code",
   "execution_count": null,
   "metadata": {},
   "outputs": [],
   "source": []
  },
  {
   "cell_type": "code",
   "execution_count": 155,
   "metadata": {},
   "outputs": [
    {
     "data": {
      "text/plain": [
       "'90'"
      ]
     },
     "execution_count": 155,
     "metadata": {},
     "output_type": "execute_result"
    }
   ],
   "source": [
    "''.join([i for i in txt if i.isdigit()])"
   ]
  },
  {
   "cell_type": "code",
   "execution_count": 158,
   "metadata": {},
   "outputs": [],
   "source": [
    "txt = \"In the beginning of 90s nobody could have expect what would happen in the beginning of 2000.\""
   ]
  },
  {
   "cell_type": "code",
   "execution_count": null,
   "metadata": {},
   "outputs": [],
   "source": []
  },
  {
   "cell_type": "code",
   "execution_count": 159,
   "metadata": {},
   "outputs": [
    {
     "data": {
      "text/plain": [
       "'902000'"
      ]
     },
     "execution_count": 159,
     "metadata": {},
     "output_type": "execute_result"
    }
   ],
   "source": [
    "''.join([i for i in txt if i.isdigit()])"
   ]
  },
  {
   "cell_type": "code",
   "execution_count": 160,
   "metadata": {},
   "outputs": [
    {
     "data": {
      "text/plain": [
       "['90', '2000']"
      ]
     },
     "execution_count": 160,
     "metadata": {},
     "output_type": "execute_result"
    }
   ],
   "source": [
    "number = ''\n",
    "lst=[]\n",
    "for i in txt:\n",
    "    if i.isdigit():\n",
    "        number +=i\n",
    "    elif number:\n",
    "        lst.append(number)\n",
    "        number = ''\n",
    "lst"
   ]
  },
  {
   "cell_type": "code",
   "execution_count": null,
   "metadata": {},
   "outputs": [],
   "source": []
  },
  {
   "cell_type": "code",
   "execution_count": 161,
   "metadata": {},
   "outputs": [
    {
     "name": "stdout",
     "output_type": "stream",
     "text": [
      "True\n"
     ]
    }
   ],
   "source": [
    "if \" \":\n",
    "    print(True)"
   ]
  },
  {
   "cell_type": "code",
   "execution_count": null,
   "metadata": {},
   "outputs": [],
   "source": []
  },
  {
   "cell_type": "raw",
   "metadata": {},
   "source": [
    "Select all the words that have \"w\", some letter and a vowel in this specific order in any part of the word.\n",
    "\n",
    "Expected output: what would"
   ]
  },
  {
   "cell_type": "code",
   "execution_count": 162,
   "metadata": {},
   "outputs": [],
   "source": [
    "wwords = [i for i in txt.split() if 'w' in i]"
   ]
  },
  {
   "cell_type": "code",
   "execution_count": 163,
   "metadata": {},
   "outputs": [
    {
     "name": "stdout",
     "output_type": "stream",
     "text": [
      "what\n",
      "would\n"
     ]
    }
   ],
   "source": [
    "for word in wwords:\n",
    "    i=w.index('w')\n",
    "    if len(word)>=i+3 and word[i+2] in \"aeiouy\":\n",
    "        print(word)"
   ]
  },
  {
   "cell_type": "code",
   "execution_count": null,
   "metadata": {},
   "outputs": [],
   "source": [
    "re.findall(r\"\\b[A-Za-z]*w[A-Za-z][aeiouy][A-Za-z]*\\b\",txt)"
   ]
  },
  {
   "cell_type": "code",
   "execution_count": null,
   "metadata": {},
   "outputs": [],
   "source": []
  },
  {
   "cell_type": "raw",
   "metadata": {},
   "source": [
    "20-26 blvd Voltaire, 75011, Paris\n",
    "144bis avenue de Clichy, 75017, Paris\n",
    "\n",
    "* should start with a number\n",
    "* may contain some letters, numbers, -, diacritics letters before the first\n",
    "* must have a ZIP code - 5 digits\n",
    "* text that may contain diacritics\n",
    "\n",
    "Rua Manuel Duarte, 12, 1000-123 Lisboa"
   ]
  },
  {
   "cell_type": "code",
   "execution_count": null,
   "metadata": {},
   "outputs": [],
   "source": []
  },
  {
   "cell_type": "code",
   "execution_count": null,
   "metadata": {},
   "outputs": [],
   "source": []
  },
  {
   "cell_type": "code",
   "execution_count": null,
   "metadata": {},
   "outputs": [],
   "source": []
  }
 ],
 "metadata": {
  "kernelspec": {
   "display_name": "Python 3",
   "language": "python",
   "name": "python3"
  },
  "language_info": {
   "codemirror_mode": {
    "name": "ipython",
    "version": 3
   },
   "file_extension": ".py",
   "mimetype": "text/x-python",
   "name": "python",
   "nbconvert_exporter": "python",
   "pygments_lexer": "ipython3",
   "version": "3.9.1"
  }
 },
 "nbformat": 4,
 "nbformat_minor": 4
}

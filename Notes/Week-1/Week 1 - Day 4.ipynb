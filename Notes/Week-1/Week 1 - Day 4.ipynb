{
 "cells": [
  {
   "cell_type": "markdown",
   "metadata": {},
   "source": [
    "# Programming Paradigmas"
   ]
  },
  {
   "cell_type": "raw",
   "metadata": {},
   "source": [
    "- Imperative Programming\n",
    "    -- Procedural\n",
    "    -- Object Oriented\n",
    "- Declarative Programming\n",
    "    -- Functional\n",
    "    -- Object Oriented"
   ]
  },
  {
   "cell_type": "code",
   "execution_count": 1,
   "metadata": {},
   "outputs": [
    {
     "ename": "NameError",
     "evalue": "name 'y' is not defined",
     "output_type": "error",
     "traceback": [
      "\u001b[0;31m---------------------------------------------------------------------------\u001b[0m",
      "\u001b[0;31mNameError\u001b[0m                                 Traceback (most recent call last)",
      "\u001b[0;32m<ipython-input-1-537c56fff339>\u001b[0m in \u001b[0;36m<module>\u001b[0;34m\u001b[0m\n\u001b[0;32m----> 1\u001b[0;31m \u001b[0mprint\u001b[0m\u001b[0;34m(\u001b[0m\u001b[0my\u001b[0m\u001b[0;34m+\u001b[0m\u001b[0;36m11\u001b[0m\u001b[0;34m)\u001b[0m\u001b[0;34m\u001b[0m\u001b[0;34m\u001b[0m\u001b[0m\n\u001b[0m\u001b[1;32m      2\u001b[0m \u001b[0my\u001b[0m \u001b[0;34m=\u001b[0m \u001b[0;36m2\u001b[0m\u001b[0;34m\u001b[0m\u001b[0;34m\u001b[0m\u001b[0m\n",
      "\u001b[0;31mNameError\u001b[0m: name 'y' is not defined"
     ]
    }
   ],
   "source": [
    "print(y+11)\n",
    "y = 2"
   ]
  },
  {
   "cell_type": "code",
   "execution_count": 2,
   "metadata": {},
   "outputs": [
    {
     "name": "stdout",
     "output_type": "stream",
     "text": [
      "13\n"
     ]
    }
   ],
   "source": [
    "y = 2\n",
    "print(y+11)"
   ]
  },
  {
   "cell_type": "code",
   "execution_count": 6,
   "metadata": {},
   "outputs": [
    {
     "name": "stdout",
     "output_type": "stream",
     "text": [
      "the lenght of the word computer is 8\n"
     ]
    }
   ],
   "source": [
    "word = 'computer'\n",
    "l = 0\n",
    "\n",
    "for i in word:\n",
    "    l += 1\n",
    "print(f'the lenght of the word {word} is {l}')"
   ]
  },
  {
   "cell_type": "code",
   "execution_count": 8,
   "metadata": {},
   "outputs": [
    {
     "name": "stdout",
     "output_type": "stream",
     "text": [
      "the lenght of the word laptop is 6\n"
     ]
    }
   ],
   "source": [
    "word = 'laptop'\n",
    "l = 0\n",
    "\n",
    "for i in word:\n",
    "    l += 1\n",
    "print(f'the lenght of the word {word} is {l}')"
   ]
  },
  {
   "cell_type": "code",
   "execution_count": 9,
   "metadata": {},
   "outputs": [],
   "source": [
    "def len_of_word(word):\n",
    "    l = 0\n",
    "    for i in word:\n",
    "        l+=1\n",
    "    print(f'the lenght of the word {word} is {l}')\n",
    "    return None"
   ]
  },
  {
   "cell_type": "code",
   "execution_count": 11,
   "metadata": {},
   "outputs": [
    {
     "name": "stdout",
     "output_type": "stream",
     "text": [
      "the lenght of the word computer is 8\n"
     ]
    }
   ],
   "source": [
    "len_of_word('computer')"
   ]
  },
  {
   "cell_type": "code",
   "execution_count": 12,
   "metadata": {},
   "outputs": [
    {
     "name": "stdout",
     "output_type": "stream",
     "text": [
      "the lenght of the word PC is 2\n"
     ]
    }
   ],
   "source": [
    "len_of_word('PC')"
   ]
  },
  {
   "cell_type": "markdown",
   "metadata": {},
   "source": [
    "# Mobile Phone - Functional Programming"
   ]
  },
  {
   "cell_type": "code",
   "execution_count": 13,
   "metadata": {},
   "outputs": [],
   "source": [
    "contact_list={'Huey':711111, 'Dewey': 722222, 'Louis':733333}\n",
    "received_calls = []\n",
    "made_calls=[]\n",
    "sms_sent={}\n",
    "sms_received={}\n",
    "galery_of_photos=[]"
   ]
  },
  {
   "cell_type": "code",
   "execution_count": 15,
   "metadata": {},
   "outputs": [
    {
     "data": {
      "text/plain": [
       "{'now': {'name': {'Louis': 'Hello'}}}"
      ]
     },
     "execution_count": 15,
     "metadata": {},
     "output_type": "execute_result"
    }
   ],
   "source": [
    "{'now': {'name':{'Louis': 'Hello'}}}"
   ]
  },
  {
   "cell_type": "markdown",
   "metadata": {},
   "source": [
    "```python\n",
    "def name_of_function(mandatory_args, optional_arguments=default_value)\n",
    "    \"\"\"documentation\"\"\" #optional\n",
    "    statements\n",
    "    return output\n",
    "```"
   ]
  },
  {
   "cell_type": "code",
   "execution_count": 20,
   "metadata": {},
   "outputs": [],
   "source": [
    "# add a contact\n",
    "def add_contact(name, number, contacts=contact_list):\n",
    "    \"\"\"\n",
    "    this function adds a new entry to the contact_list\n",
    "    Inputs:\n",
    "    name - the name of a contact\n",
    "    number - the phone number of a contact\n",
    "    contacts - optional argument that represents the contact list\n",
    "    \n",
    "    Output:\n",
    "    updated contact_list\n",
    "    \"\"\"\n",
    "    flag = True\n",
    "    while flag:\n",
    "        if name in contacts.keys():\n",
    "            print('Sorry, but the name is already in use')\n",
    "            name=input('Please input a new name in the field below\\n')\n",
    "        else:\n",
    "            contacts.update({name:number})\n",
    "            flag = False\n",
    "            print('Thank you, the new contact is stored')\n",
    "    \n",
    "    return contacts"
   ]
  },
  {
   "cell_type": "code",
   "execution_count": 23,
   "metadata": {},
   "outputs": [
    {
     "name": "stdout",
     "output_type": "stream",
     "text": [
      "Sorry, but the name is already in use\n",
      "Please input a new name in the field below\n",
      "Launchpad McQuack1\n",
      "Thank you, the new contact is stored\n"
     ]
    },
    {
     "data": {
      "text/plain": [
       "{'Huey': 711111,\n",
       " 'Dewey': 722222,\n",
       " 'Louis': 733333,\n",
       " 'Launchpad McQuack': 744444,\n",
       " 'Launchpad McQuack1': 744444}"
      ]
     },
     "execution_count": 23,
     "metadata": {},
     "output_type": "execute_result"
    }
   ],
   "source": [
    "contact_list=add_contact('Launchpad McQuack', 744444)"
   ]
  },
  {
   "cell_type": "code",
   "execution_count": 26,
   "metadata": {},
   "outputs": [],
   "source": [
    "?add_contact"
   ]
  },
  {
   "cell_type": "code",
   "execution_count": 30,
   "metadata": {},
   "outputs": [],
   "source": [
    "# remove a contact\n",
    "def remove_a_contact(name, contacts=contact_list):\n",
    "\n",
    "    if name in contacts.keys():\n",
    "        del contacts[name]\n",
    "        print('Operation finished successfully')\n",
    "    else:\n",
    "        print('Sorry, this contact doesn\\'t exist')\n",
    "    \n",
    "    return contacts"
   ]
  },
  {
   "cell_type": "code",
   "execution_count": 33,
   "metadata": {},
   "outputs": [
    {
     "name": "stdout",
     "output_type": "stream",
     "text": [
      "Sorry, this contact doesn't exist\n"
     ]
    }
   ],
   "source": [
    "contact_list = remove_a_contact('Launchpad McQuack1')"
   ]
  },
  {
   "cell_type": "code",
   "execution_count": null,
   "metadata": {},
   "outputs": [],
   "source": []
  },
  {
   "cell_type": "code",
   "execution_count": 34,
   "metadata": {},
   "outputs": [
    {
     "data": {
      "text/plain": [
       "{'Huey': 711111, 'Dewey': 722222, 'Louis': 733333, 'Launchpad McQuack': 744444}"
      ]
     },
     "execution_count": 34,
     "metadata": {},
     "output_type": "execute_result"
    }
   ],
   "source": [
    "contact_list"
   ]
  },
  {
   "cell_type": "code",
   "execution_count": 35,
   "metadata": {},
   "outputs": [],
   "source": [
    "?remove_a_contact"
   ]
  },
  {
   "cell_type": "code",
   "execution_count": 45,
   "metadata": {},
   "outputs": [],
   "source": [
    "# phone calls\n",
    "\n",
    "def make_a_call(number, calls=made_calls, contacts=contact_list):\n",
    "    if number in contacts.values(): #add a name instead of number, assuming number is known\n",
    "        name = [i for i in contacts if contacts[i]==number][0]\n",
    "        #name = [i for i,j in contacts if j==number][0] also work\n",
    "    else:\n",
    "        name=str(number)\n",
    "    print(f'Dialing {name}...')\n",
    "    calls.append(name)\n",
    "    return calls"
   ]
  },
  {
   "cell_type": "code",
   "execution_count": 46,
   "metadata": {},
   "outputs": [
    {
     "name": "stdout",
     "output_type": "stream",
     "text": [
      "Dialing Louis...\n"
     ]
    }
   ],
   "source": [
    "made_calls=make_a_call(733333)"
   ]
  },
  {
   "cell_type": "code",
   "execution_count": 47,
   "metadata": {},
   "outputs": [
    {
     "data": {
      "text/plain": [
       "['Louis']"
      ]
     },
     "execution_count": 47,
     "metadata": {},
     "output_type": "execute_result"
    }
   ],
   "source": [
    "made_calls"
   ]
  },
  {
   "cell_type": "code",
   "execution_count": 48,
   "metadata": {},
   "outputs": [
    {
     "name": "stdout",
     "output_type": "stream",
     "text": [
      "Dialing Huey...\n"
     ]
    }
   ],
   "source": [
    "made_calls=make_a_call(711111)"
   ]
  },
  {
   "cell_type": "code",
   "execution_count": 50,
   "metadata": {},
   "outputs": [
    {
     "data": {
      "text/plain": [
       "['Louis', 'Huey']"
      ]
     },
     "execution_count": 50,
     "metadata": {},
     "output_type": "execute_result"
    }
   ],
   "source": [
    "made_calls"
   ]
  },
  {
   "cell_type": "code",
   "execution_count": 51,
   "metadata": {},
   "outputs": [],
   "source": [
    "# phone calls\n",
    "\n",
    "def receive_a_call(number, calls=received_calls, contacts=contact_list):\n",
    "    if number in contacts.values(): #add a name instead of number, assuming number is known\n",
    "        name = [i for i in contacts if contacts[i]==number][0]\n",
    "        #name = [i for i,j in contacts if j==number][0] also work\n",
    "    else:\n",
    "        name=str(number)\n",
    "    print(f'{name} is calling...')\n",
    "    calls.append(name)\n",
    "    return calls"
   ]
  },
  {
   "cell_type": "code",
   "execution_count": 52,
   "metadata": {},
   "outputs": [
    {
     "name": "stdout",
     "output_type": "stream",
     "text": [
      "Huey is calling...\n"
     ]
    }
   ],
   "source": [
    "received_calls=receive_a_call(711111)"
   ]
  },
  {
   "cell_type": "code",
   "execution_count": 53,
   "metadata": {},
   "outputs": [
    {
     "data": {
      "text/plain": [
       "['Huey']"
      ]
     },
     "execution_count": 53,
     "metadata": {},
     "output_type": "execute_result"
    }
   ],
   "source": [
    "received_calls"
   ]
  },
  {
   "cell_type": "code",
   "execution_count": 55,
   "metadata": {},
   "outputs": [],
   "source": [
    "# send an sms\n",
    "def send_an_sms(number, text, sms=sms_sent, contacts=contact_list):\n",
    "    if number in contacts.values():\n",
    "        name=[i for i,j in contacts.items() if j==number][0]\n",
    "    else:\n",
    "        name=str(number)\n",
    "    print(f'Write a message to {name}:\\n\\n{text}')\n",
    "    sms[name]=text\n",
    "    return sms"
   ]
  },
  {
   "cell_type": "code",
   "execution_count": 57,
   "metadata": {},
   "outputs": [
    {
     "name": "stdout",
     "output_type": "stream",
     "text": [
      "Write a message to Huey:\n",
      "\n",
      "Hi, Huey\n"
     ]
    }
   ],
   "source": [
    "sms_sent=send_an_sms(711111, \"Hi, Huey\")"
   ]
  },
  {
   "cell_type": "code",
   "execution_count": 60,
   "metadata": {},
   "outputs": [
    {
     "data": {
      "text/plain": [
       "datetime.datetime(2021, 2, 4, 10, 46, 18, 956485)"
      ]
     },
     "execution_count": 60,
     "metadata": {},
     "output_type": "execute_result"
    }
   ],
   "source": [
    "from datetime import datetime\n",
    "\n",
    "datetime.now()"
   ]
  },
  {
   "cell_type": "code",
   "execution_count": 63,
   "metadata": {},
   "outputs": [],
   "source": [
    "# send an sms\n",
    "def send_an_sms_datetime(number, text, sms=sms_sent, contacts=contact_list):\n",
    "    if number in contacts.values():\n",
    "        name=[i for i,j in contacts.items() if j==number][0]\n",
    "    else:\n",
    "        name=str(number)\n",
    "    print(f'Write a message to {name}:\\n\\n{text}')\n",
    "\n",
    "    new_index=len(sms)+1\n",
    "    sms[new_index]={'name':name, 'text':text}\n",
    "    return sms"
   ]
  },
  {
   "cell_type": "code",
   "execution_count": 71,
   "metadata": {},
   "outputs": [
    {
     "name": "stdout",
     "output_type": "stream",
     "text": [
      "Write a message to 122222:\n",
      "\n",
      "What's your name\n"
     ]
    }
   ],
   "source": [
    "sms_sent=send_an_sms_datetime(122222, \"What's your name\")"
   ]
  },
  {
   "cell_type": "code",
   "execution_count": null,
   "metadata": {},
   "outputs": [],
   "source": []
  },
  {
   "cell_type": "code",
   "execution_count": 72,
   "metadata": {},
   "outputs": [
    {
     "data": {
      "text/plain": [
       "{'Huey': 'Hi, Huey',\n",
       " 2: {'name': 'Huey', 'text': 'Hi Huey'},\n",
       " 3: {'name': 'Huey', 'text': 'Hi Huey'},\n",
       " 4: {'name': 'Dewey', 'text': 'Hi Huey'},\n",
       " 5: {'name': 'Dewey', 'text': 'Sorry, wrong person'},\n",
       " 6: {'name': '122222', 'text': \"What's your name\"}}"
      ]
     },
     "execution_count": 72,
     "metadata": {},
     "output_type": "execute_result"
    }
   ],
   "source": [
    "sms_sent"
   ]
  },
  {
   "cell_type": "code",
   "execution_count": 74,
   "metadata": {},
   "outputs": [],
   "source": [
    "# make a photo\n",
    "def make_a_photo():\n",
    "    global galery_of_photos #now all the changes we apply to this variable in the function will be applied to the main variable outside the function\n",
    "    new_index = len(galery_of_photos)+1\n",
    "    galery_of_photos.append(f'{new_index}.jpg')\n",
    "    return None"
   ]
  },
  {
   "cell_type": "code",
   "execution_count": 75,
   "metadata": {},
   "outputs": [
    {
     "name": "stdout",
     "output_type": "stream",
     "text": [
      "[]\n"
     ]
    }
   ],
   "source": [
    "print(galery_of_photos)"
   ]
  },
  {
   "cell_type": "code",
   "execution_count": 86,
   "metadata": {},
   "outputs": [],
   "source": [
    "make_a_photo()"
   ]
  },
  {
   "cell_type": "code",
   "execution_count": 88,
   "metadata": {},
   "outputs": [
    {
     "name": "stdout",
     "output_type": "stream",
     "text": [
      "['1.jpg', '2.jpg', '3.jpg', '4.jpg', '5.jpg', '6.jpg']\n"
     ]
    }
   ],
   "source": [
    "print(galery_of_photos)"
   ]
  },
  {
   "cell_type": "code",
   "execution_count": null,
   "metadata": {},
   "outputs": [],
   "source": []
  },
  {
   "cell_type": "code",
   "execution_count": null,
   "metadata": {},
   "outputs": [],
   "source": []
  },
  {
   "cell_type": "markdown",
   "metadata": {},
   "source": [
    "## Error Handling"
   ]
  },
  {
   "cell_type": "markdown",
   "metadata": {},
   "source": [
    "## 7 main types of errors in Python:"
   ]
  },
  {
   "cell_type": "raw",
   "metadata": {},
   "source": [
    "1. **SyntaxError** - code typed incorrectly\n",
    "2. **AttributeError** - try to access an attribute or an object that does not exists.\n",
    "3. **KeyError** - try to access a key in a dictionary that does not exist\n",
    "4. **TypeError** - An argument to a function is not of the right type\n",
    "5. **ValueError** - An argument to a function is of the right type but not the right domain.\n",
    "6. **ImportError** - When an import fails\n",
    "7. **IOError** - Python cannot access a file correctly on disk"
   ]
  },
  {
   "cell_type": "code",
   "execution_count": 89,
   "metadata": {},
   "outputs": [
    {
     "ename": "ModuleNotFoundError",
     "evalue": "No module named 'pandas'",
     "output_type": "error",
     "traceback": [
      "\u001b[0;31m---------------------------------------------------------------------------\u001b[0m",
      "\u001b[0;31mModuleNotFoundError\u001b[0m                       Traceback (most recent call last)",
      "\u001b[0;32m<ipython-input-89-e9d71fb092be>\u001b[0m in \u001b[0;36m<module>\u001b[0;34m\u001b[0m\n\u001b[0;32m----> 1\u001b[0;31m \u001b[0;32mfrom\u001b[0m \u001b[0mpandas\u001b[0m \u001b[0;32mimport\u001b[0m \u001b[0mdoes_not_exist\u001b[0m\u001b[0;34m\u001b[0m\u001b[0;34m\u001b[0m\u001b[0m\n\u001b[0m",
      "\u001b[0;31mModuleNotFoundError\u001b[0m: No module named 'pandas'"
     ]
    }
   ],
   "source": [
    "from pandas import does_not_exist"
   ]
  },
  {
   "cell_type": "code",
   "execution_count": 91,
   "metadata": {},
   "outputs": [
    {
     "ename": "NameError",
     "evalue": "name 'does_not_exist' is not defined",
     "output_type": "error",
     "traceback": [
      "\u001b[0;31m---------------------------------------------------------------------------\u001b[0m",
      "\u001b[0;31mNameError\u001b[0m                                 Traceback (most recent call last)",
      "\u001b[0;32m<ipython-input-91-cda8d4258172>\u001b[0m in \u001b[0;36m<module>\u001b[0;34m\u001b[0m\n\u001b[1;32m      1\u001b[0m \u001b[0;32mdef\u001b[0m \u001b[0mfunc\u001b[0m\u001b[0;34m(\u001b[0m\u001b[0mstring\u001b[0m\u001b[0;34m)\u001b[0m\u001b[0;34m:\u001b[0m\u001b[0;34m\u001b[0m\u001b[0;34m\u001b[0m\u001b[0m\n\u001b[1;32m      2\u001b[0m     \u001b[0mprint\u001b[0m\u001b[0;34m(\u001b[0m\u001b[0mdoes_not_exist\u001b[0m\u001b[0;34m)\u001b[0m\u001b[0;34m\u001b[0m\u001b[0;34m\u001b[0m\u001b[0m\n\u001b[0;32m----> 3\u001b[0;31m \u001b[0mfunc\u001b[0m\u001b[0;34m(\u001b[0m\u001b[0;34m'this is a string'\u001b[0m\u001b[0;34m)\u001b[0m\u001b[0;34m\u001b[0m\u001b[0;34m\u001b[0m\u001b[0m\n\u001b[0m",
      "\u001b[0;32m<ipython-input-91-cda8d4258172>\u001b[0m in \u001b[0;36mfunc\u001b[0;34m(string)\u001b[0m\n\u001b[1;32m      1\u001b[0m \u001b[0;32mdef\u001b[0m \u001b[0mfunc\u001b[0m\u001b[0;34m(\u001b[0m\u001b[0mstring\u001b[0m\u001b[0;34m)\u001b[0m\u001b[0;34m:\u001b[0m\u001b[0;34m\u001b[0m\u001b[0;34m\u001b[0m\u001b[0m\n\u001b[0;32m----> 2\u001b[0;31m     \u001b[0mprint\u001b[0m\u001b[0;34m(\u001b[0m\u001b[0mdoes_not_exist\u001b[0m\u001b[0;34m)\u001b[0m\u001b[0;34m\u001b[0m\u001b[0;34m\u001b[0m\u001b[0m\n\u001b[0m\u001b[1;32m      3\u001b[0m \u001b[0mfunc\u001b[0m\u001b[0;34m(\u001b[0m\u001b[0;34m'this is a string'\u001b[0m\u001b[0;34m)\u001b[0m\u001b[0;34m\u001b[0m\u001b[0;34m\u001b[0m\u001b[0m\n",
      "\u001b[0;31mNameError\u001b[0m: name 'does_not_exist' is not defined"
     ]
    }
   ],
   "source": [
    "def func(string):\n",
    "    print(does_not_exist)\n",
    "func('this is a string')"
   ]
  },
  {
   "cell_type": "code",
   "execution_count": 93,
   "metadata": {},
   "outputs": [
    {
     "ename": "NameError",
     "evalue": "name 'does_not_exist' is not defined",
     "output_type": "error",
     "traceback": [
      "\u001b[0;31m---------------------------------------------------------------------------\u001b[0m",
      "\u001b[0;31mNameError\u001b[0m                                 Traceback (most recent call last)",
      "\u001b[0;32m<ipython-input-93-3967d00d9aa2>\u001b[0m in \u001b[0;36m<module>\u001b[0;34m\u001b[0m\n\u001b[0;32m----> 1\u001b[0;31m \u001b[0mfunc\u001b[0m\u001b[0;34m(\u001b[0m\u001b[0mdoes_not_exist\u001b[0m\u001b[0;34m)\u001b[0m\u001b[0;34m\u001b[0m\u001b[0;34m\u001b[0m\u001b[0m\n\u001b[0m",
      "\u001b[0;31mNameError\u001b[0m: name 'does_not_exist' is not defined"
     ]
    }
   ],
   "source": [
    "func(does_not_exist)"
   ]
  },
  {
   "cell_type": "code",
   "execution_count": null,
   "metadata": {},
   "outputs": [],
   "source": []
  },
  {
   "cell_type": "markdown",
   "metadata": {},
   "source": [
    "## Try Except"
   ]
  },
  {
   "cell_type": "raw",
   "metadata": {},
   "source": [
    "```\n",
    "    try:\n",
    "        statement to try\n",
    "    except:\n",
    "        \n",
    "    finally:\n",
    "        finally do smth"
   ]
  }
 ],
 "metadata": {
  "kernelspec": {
   "display_name": "Python 3",
   "language": "python",
   "name": "python3"
  },
  "language_info": {
   "codemirror_mode": {
    "name": "ipython",
    "version": 3
   },
   "file_extension": ".py",
   "mimetype": "text/x-python",
   "name": "python",
   "nbconvert_exporter": "python",
   "pygments_lexer": "ipython3",
   "version": "3.9.1"
  }
 },
 "nbformat": 4,
 "nbformat_minor": 4
}

{
 "cells": [
  {
   "cell_type": "markdown",
   "metadata": {},
   "source": [
    "## Blackjack Game by Leonardo"
   ]
  },
  {
   "cell_type": "code",
   "execution_count": 29,
   "metadata": {},
   "outputs": [],
   "source": [
    "import random"
   ]
  },
  {
   "cell_type": "raw",
   "metadata": {},
   "source": [
    "Defining the deck of cards:"
   ]
  },
  {
   "cell_type": "code",
   "execution_count": 27,
   "metadata": {},
   "outputs": [
    {
     "data": {
      "text/plain": [
       "{'1-Clubs': 1,\n",
       " '2-Clubs': 2,\n",
       " '3-Clubs': 3,\n",
       " '4-Clubs': 4,\n",
       " '5-Clubs': 5,\n",
       " '6-Clubs': 6,\n",
       " '7-Clubs': 7,\n",
       " '8-Clubs': 8,\n",
       " '9-Clubs': 9,\n",
       " 'King-Clubs': 10,\n",
       " 'Queen-Clubs': 10,\n",
       " 'Jack-Clubs': 10,\n",
       " 'Ace-Clubs': 10,\n",
       " '1-Hearts': 1,\n",
       " '2-Hearts': 2,\n",
       " '3-Hearts': 3,\n",
       " '4-Hearts': 4,\n",
       " '5-Hearts': 5,\n",
       " '6-Hearts': 6,\n",
       " '7-Hearts': 7,\n",
       " '8-Hearts': 8,\n",
       " '9-Hearts': 9,\n",
       " 'King-Hearts': 10,\n",
       " 'Queen-Hearts': 10,\n",
       " 'Jack-Hearts': 10,\n",
       " 'Ace-Hearts': 10,\n",
       " '1-Jack': 1,\n",
       " '2-Jack': 2,\n",
       " '3-Jack': 3,\n",
       " '4-Jack': 4,\n",
       " '5-Jack': 5,\n",
       " '6-Jack': 6,\n",
       " '7-Jack': 7,\n",
       " '8-Jack': 8,\n",
       " '9-Jack': 9,\n",
       " 'King-Jack': 10,\n",
       " 'Queen-Jack': 10,\n",
       " 'Jack-Jack': 10,\n",
       " 'Ace-Jack': 10,\n",
       " '1-Spades': 1,\n",
       " '2-Spades': 2,\n",
       " '3-Spades': 3,\n",
       " '4-Spades': 4,\n",
       " '5-Spades': 5,\n",
       " '6-Spades': 6,\n",
       " '7-Spades': 7,\n",
       " '8-Spades': 8,\n",
       " '9-Spades': 9,\n",
       " 'King-Spades': 10,\n",
       " 'Queen-Spades': 10,\n",
       " 'Jack-Spades': 10,\n",
       " 'Ace-Spades': 10}"
      ]
     },
     "execution_count": 27,
     "metadata": {},
     "output_type": "execute_result"
    }
   ],
   "source": [
    "#number_of_decks_used = input(\"Choose the number of decks you would like to play with (from 1 to 8): \\n\")\n",
    "\n",
    "# The deck will be composed by a dictionary, with keys defined as the card name and the values defining\n",
    "# the points/score for each card\n",
    "\n",
    "deck = {}\n",
    "for i in [\"Clubs\", \"Hearts\", \"Jack\", \"Spades\"]:\n",
    "    for j in range(1,10):\n",
    "        deck[str(j)+\"-\"+i] = j\n",
    "\n",
    "    for k in [\"King\", \"Queen\", \"Jack\", \"Ace\"]:\n",
    "        deck[str(k)+\"-\"+i] = 10\n",
    "\n",
    "deck\n",
    "#len(deck)"
   ]
  },
  {
   "cell_type": "code",
   "execution_count": null,
   "metadata": {},
   "outputs": [],
   "source": []
  },
  {
   "cell_type": "raw",
   "metadata": {},
   "source": [
    "Global variable declarations:"
   ]
  },
  {
   "cell_type": "code",
   "execution_count": 28,
   "metadata": {},
   "outputs": [],
   "source": [
    "round_score_player = 0\n",
    "round_score_cpu = 0\n",
    "\n",
    "wins_player = 0\n",
    "wins_cpu = 0\n",
    "ties = 0\n",
    "\n"
   ]
  },
  {
   "cell_type": "code",
   "execution_count": null,
   "metadata": {},
   "outputs": [],
   "source": [
    "def round_one(deck=deck):\n",
    "    player_card"
   ]
  },
  {
   "cell_type": "code",
   "execution_count": null,
   "metadata": {},
   "outputs": [],
   "source": []
  }
 ],
 "metadata": {
  "kernelspec": {
   "display_name": "Python 3",
   "language": "python",
   "name": "python3"
  },
  "language_info": {
   "codemirror_mode": {
    "name": "ipython",
    "version": 3
   },
   "file_extension": ".py",
   "mimetype": "text/x-python",
   "name": "python",
   "nbconvert_exporter": "python",
   "pygments_lexer": "ipython3",
   "version": "3.9.1"
  }
 },
 "nbformat": 4,
 "nbformat_minor": 4
}

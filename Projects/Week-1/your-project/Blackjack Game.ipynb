{
 "cells": [
  {
   "cell_type": "markdown",
   "metadata": {},
   "source": [
    "## Blackjack Game by Leonardo"
   ]
  },
  {
   "cell_type": "code",
   "execution_count": 1,
   "metadata": {},
   "outputs": [],
   "source": [
    "import random\n",
    "import os.path"
   ]
  },
  {
   "cell_type": "markdown",
   "metadata": {},
   "source": [
    "## Global variable declarations:"
   ]
  },
  {
   "cell_type": "code",
   "execution_count": 2,
   "metadata": {},
   "outputs": [],
   "source": [
    "game_break = False\n",
    "round_number = 1\n",
    "\n",
    "player_wins = 0\n",
    "cpu_wins = 0\n",
    "ties = 0\n",
    "\n",
    "round_break = False\n",
    "turn_number = 1\n",
    "draw_or_stop = \"DRAW\"\n",
    "\n",
    "cards = []\n",
    "player_cards = []\n",
    "cpu_cards = []\n",
    "\n",
    "player_scores = []\n",
    "cpu_scores = []\n",
    "\n",
    "player_total_score = 0\n",
    "cpu_total_score = 0"
   ]
  },
  {
   "cell_type": "code",
   "execution_count": 15,
   "metadata": {},
   "outputs": [],
   "source": [
    "deck = {}\n",
    "# The deck will be composed by a dictionary, with keys defined as the card name and the values defining\n",
    "# the points/score for each card\n",
    "\n",
    "for i in [\"♠\", \"♥\", \"♦\", \"♣\"]:\n",
    "    for j in range(2,11):\n",
    "        deck[str(j)+i] = j\n",
    "\n",
    "    for k in [\"J\", \"Q\", \"K\"]:\n",
    "        deck[str(k)+i] = 10\n",
    "\n",
    "    deck[\"A\"+i] = \"choose\"\n",
    "\n",
    "cards = list(deck.keys())"
   ]
  },
  {
   "cell_type": "code",
   "execution_count": 3,
   "metadata": {},
   "outputs": [
    {
     "ename": "TypeError",
     "evalue": "dirname() missing 1 required positional argument: 'p'",
     "output_type": "error",
     "traceback": [
      "\u001b[0;31m---------------------------------------------------------------------------\u001b[0m",
      "\u001b[0;31mTypeError\u001b[0m                                 Traceback (most recent call last)",
      "\u001b[0;32m<ipython-input-3-1e575f476d91>\u001b[0m in \u001b[0;36m<module>\u001b[0;34m\u001b[0m\n\u001b[1;32m      7\u001b[0m     \u001b[0mimage\u001b[0m \u001b[0;34m=\u001b[0m \u001b[0mf\u001b[0m\u001b[0;34m.\u001b[0m\u001b[0mread\u001b[0m\u001b[0;34m(\u001b[0m\u001b[0;34m)\u001b[0m\u001b[0;34m\u001b[0m\u001b[0;34m\u001b[0m\u001b[0m\n\u001b[1;32m      8\u001b[0m \u001b[0;34m\u001b[0m\u001b[0m\n\u001b[0;32m----> 9\u001b[0;31m \u001b[0mos\u001b[0m\u001b[0;34m.\u001b[0m\u001b[0mpath\u001b[0m\u001b[0;34m.\u001b[0m\u001b[0mdirname\u001b[0m\u001b[0;34m(\u001b[0m\u001b[0;34m)\u001b[0m\u001b[0;34m\u001b[0m\u001b[0;34m\u001b[0m\u001b[0m\n\u001b[0m",
      "\u001b[0;31mTypeError\u001b[0m: dirname() missing 1 required positional argument: 'p'"
     ]
    }
   ],
   "source": [
    "#for i in range(52):\n",
    "pictures = {'2♠': '2♠.jpg'}\n",
    "\n",
    "filename = pictures['2♠']\n",
    "\n",
    "with open(filename, 'rb') as f:\n",
    "    image = f.read()\n",
    "\n",
    "os.path.dirname()"
   ]
  },
  {
   "cell_type": "code",
   "execution_count": null,
   "metadata": {},
   "outputs": [],
   "source": [
    "try:\n",
    "    img  = Image.open(path)  \n",
    "except IOError: \n",
    "    pass"
   ]
  },
  {
   "cell_type": "markdown",
   "metadata": {},
   "source": [
    "## Functions declarations"
   ]
  },
  {
   "cell_type": "code",
   "execution_count": 4,
   "metadata": {},
   "outputs": [],
   "source": [
    "def reset_all(deck=deck):\n",
    "    \"\"\"This function has the objective of reseting:\n",
    "    1. the deck of cards after every round, since the deck is used with no replacement of cards during each turn of play\n",
    "    2. all the other variables related to the player and the CPU\n",
    "    \n",
    "    Input: deck (as a dictionary)\n",
    "    Output: cards = multiple times the deck (as a list)\"\"\"\n",
    "    \n",
    "    global turn_number, round_break, game_break, draw_or_stop, cards, player_cards, player_scores, player_total_score, cpu_cards, cpu_scores, cpu_total_score\n",
    "    \n",
    "    turn_number = 1\n",
    "    round_break = False\n",
    "    draw_or_stop = \"DRAW\"\n",
    "    \n",
    "    cards = []\n",
    "\n",
    "    player_cards = []\n",
    "    player_scores = []\n",
    "    player_total_score = 0\n",
    "    \n",
    "    cpu_cards = []\n",
    "    cpu_scores = []\n",
    "    cpu_total_score = 0\n",
    "    \n",
    "    number_of_decks_used = input(\"Choose the number of decks you would like to play with (from 1 to 8): \\n\")\n",
    "    \n",
    "    while number_of_decks_used not in range(1,9):\n",
    "        try:\n",
    "            number_of_decks_used = int(number_of_decks_used)\n",
    "        except:\n",
    "            number_of_decks_used = input(\"Please, try again. You need to choose an integer between 1 and 8 for the number of decks:\\n\")\n",
    "        if number_of_decks_used not in range(1,9):\n",
    "            number_of_decks_used = input(\"Please, try again. You need to choose an integer between 1 and 8 for the number of decks:\\n\")\n",
    "    \n",
    "    cards = []\n",
    "    for i in range(number_of_decks_used):\n",
    "        cards += list(deck.keys())\n",
    "    \n",
    "    print(f\"\\nNice choice! Your deck has then {len(cards)} CARDS and here are the cards in yout full deck:\")\n",
    "    print(cards)\n",
    "    print()\n",
    "    \n",
    "    option_quit_game()\n",
    "    \n",
    "    return None"
   ]
  },
  {
   "cell_type": "code",
   "execution_count": 5,
   "metadata": {},
   "outputs": [],
   "source": [
    "def choice_of_cards(cards=cards):\n",
    "    chosen_card = random.choices(cards)\n",
    "    return chosen_card[0]"
   ]
  },
  {
   "cell_type": "code",
   "execution_count": 6,
   "metadata": {},
   "outputs": [],
   "source": [
    "def option_quit_game():\n",
    "    \n",
    "    global round_break, game_break\n",
    "    \n",
    "    check = input(\"\\nPress Enter to continue... Or Q to quit.\")\n",
    "    if check == 'Q':\n",
    "        round_break = True\n",
    "        game_break = True\n",
    "    print()\n",
    "    return None"
   ]
  },
  {
   "cell_type": "raw",
   "metadata": {},
   "source": [
    "card1 = choice_of_cards(cards)\n",
    "print(card1)\n",
    "deck[card1]"
   ]
  },
  {
   "cell_type": "code",
   "execution_count": 7,
   "metadata": {},
   "outputs": [],
   "source": [
    "def card_points(card_chosen, deck=deck):\n",
    "    \"\"\"This function returns the punctuation of each card (either draw by the player or the cpu)\n",
    "    \n",
    "    Input: card to be evaluated and the deck dictionary\n",
    "    Output: ponctuation of the card\n",
    "    \"\"\"\n",
    "    \n",
    "    #print(deck[card_chosen])\n",
    "    \n",
    "    if deck[card_chosen] in range (0,11):\n",
    "        return deck[card_chosen]\n",
    "    \n",
    "    elif deck[card_chosen] == \"choose\":\n",
    "        flag = True\n",
    "        points = input(\"Nice ! You got an Ace ! Choose if you want to attribute 1 or 11 points to this card :\\n\")\n",
    "        print()\n",
    "        \n",
    "        while flag:\n",
    "            try:\n",
    "                points = int(points)\n",
    "            except:\n",
    "                points=input(\"Please, try again. You need to choose 1 or 11 points to this card :\\n\")\n",
    "            else:\n",
    "                if int(points) == 1 or int(points) == 11:\n",
    "                    flag = False\n",
    "                    break\n",
    "                else:\n",
    "                    points=input(\"Please, try again. You need to choose 1 or 11 points to this card :\\n\")\n",
    "        return int(points)\n",
    "    \n",
    "    else:\n",
    "        print(\"There's a problem with the ponctuation of cards.\\n\")\n",
    "        return 0"
   ]
  },
  {
   "cell_type": "raw",
   "metadata": {},
   "source": [
    "count_points('10-Clubs', deck)"
   ]
  },
  {
   "cell_type": "raw",
   "metadata": {},
   "source": [
    "cards.remove('3-Clubs')\n",
    "print(cards)"
   ]
  },
  {
   "cell_type": "raw",
   "metadata": {},
   "source": [
    "def player_score():\n",
    "    scores"
   ]
  },
  {
   "cell_type": "raw",
   "metadata": {},
   "source": [
    "def cpu_score():\n",
    "    scores"
   ]
  },
  {
   "cell_type": "code",
   "execution_count": 8,
   "metadata": {},
   "outputs": [],
   "source": [
    "def player_choice():\n",
    "    global draw_or_stop\n",
    "    \n",
    "    if draw_or_stop == \"STOP\":\n",
    "        return \"STOP\"\n",
    "    else:\n",
    "        draw_or_stop = input(\"Type DRAW to draw a new card or STOP if you want to STOP drawing cards:\")\n",
    "        \n",
    "        while draw_or_stop.lower() not in [\"draw\", \"stop\"]:\n",
    "            draw_or_stop = input(\"Try again. Type DRAW to draw a new card or STOP if you want to STOP drawing cards:\")\n",
    "        \n",
    "        draw_or_stop = draw_or_stop.upper()\n",
    "        \n",
    "        return None"
   ]
  },
  {
   "cell_type": "code",
   "execution_count": 9,
   "metadata": {},
   "outputs": [],
   "source": [
    "def player_turn(turn_number, cards=cards, deck=deck):\n",
    "    \"\"\"\n",
    "    This function defines all the tasks that are executed when a card is to be drawn by the player,\n",
    "    updating the necessary variables : from player_card, to the new cards (deck), and the player_score.\n",
    "    \"\"\"\n",
    "    \n",
    "    global player_total_score, player_scores, player_cards, draw_or_stop\n",
    "    \n",
    "    print(f\"------------------------------------ TURN {turn_number} ------------------------------------\")\n",
    "    \n",
    "    print(\"**PLAYER TURN:**\")\n",
    "    player_card = None\n",
    "    \n",
    "    if turn_number <= 2:\n",
    "        print(f\"For this a new card has automatically been drawn to the player by the dealer (CPU).\")\n",
    "        draw_or_stop = \"DRAW\"\n",
    "    \n",
    "    elif turn_number >2:\n",
    "        player_choice()\n",
    "            \n",
    "        \n",
    "    if draw_or_stop == \"DRAW\":\n",
    "        player_card = choice_of_cards(cards)\n",
    "        print(f\"Here's the card : {player_card}.\\n\")\n",
    "        \n",
    "        # Drawing a card from the deck: removing it from the deck and allocating it to the player:\n",
    "        cards = cards.remove(player_card)\n",
    "        player_cards.append(player_card)\n",
    "\n",
    "        # Score updates\n",
    "        player_scores.append(card_points(player_card))\n",
    "        player_total_score = sum(score for score in player_scores)\n",
    "    \n",
    "    return None"
   ]
  },
  {
   "cell_type": "code",
   "execution_count": 10,
   "metadata": {},
   "outputs": [],
   "source": [
    "def cpu_turn(turn_number=turn_number, cards=cards, deck=deck):\n",
    "    \n",
    "    global cpu_total_score, cpu_cards, round_break, game_break\n",
    "    \n",
    "    # Drawing a card from the deck: removing it from the deck and allocating it to the cpu:\n",
    "    if turn_number<=2 or cpu_total_score < 16:\n",
    "        cpu_card = choice_of_cards(cards)\n",
    "        \n",
    "        print(\"**CPU TURN:**\")\n",
    "        print(\"A new card has been drawn to the CPU.\")\n",
    "        print(f\"Here's the card : {cpu_card}\\n\")\n",
    "        \n",
    "        cards = cards.remove(cpu_card)\n",
    "        cpu_cards.append(cpu_card)\n",
    "        \n",
    "        # Score updates\n",
    "        cpu_scores.append(card_points(cpu_card))\n",
    "        cpu_total_score = sum(score for score in cpu_scores)\n",
    "    \n",
    "    else:\n",
    "        print(f\"It would be the CPU turn, but since it already reached the score of {cpu_total_score}, it has finished playing during this round.\\n\")\n",
    "    \n",
    "    option_quit_game()\n",
    "    \n",
    "    return None"
   ]
  },
  {
   "cell_type": "code",
   "execution_count": 11,
   "metadata": {},
   "outputs": [],
   "source": [
    "def print_round():\n",
    "    \n",
    "    if game_break == True:\n",
    "        return None\n",
    "    \n",
    "    print(f\"\\n----------------------------------------------\")\n",
    "    print(f\"-------------- TURN {turn_number} - RESULTS --------------\")\n",
    "    print(f\"----------------------------------------------\")\n",
    "    print(\"\")\n",
    "    print(\"The PLAYER cards are:\", player_cards)\n",
    "    print(\"The PLAYER scores are:\", player_scores)\n",
    "    print(\"The PLAYER total score is:\", player_total_score)\n",
    "    print(\"\")\n",
    "    print(\"The CPU cards are:\", cpu_cards)\n",
    "    print(\"The CPU scores are:\", cpu_scores)\n",
    "    print(\"The CPU total score is:\", cpu_total_score)\n",
    "    print(\"\")\n",
    "    print(f\"----------------------------------------------\")\n",
    "    print(f\"----------------------------------------------\")\n",
    "    print(f\"----------------------------------------------\")\n",
    "    \n",
    "    option_quit_game()\n",
    "    \n",
    "    return None"
   ]
  },
  {
   "cell_type": "code",
   "execution_count": 12,
   "metadata": {},
   "outputs": [],
   "source": [
    "def round_winner():\n",
    "    \n",
    "    global player_wins, cpu_wins, ties\n",
    "    \n",
    "    if player_total_score > cpu_total_score and player_total_score <= 21:\n",
    "        player_wins += 1\n",
    "        print(\"PLAYER is the winner of this round!\")\n",
    "        print()\n",
    "    \n",
    "    elif cpu_total_score > 21 and player_total_score <= 21:\n",
    "        player_wins += 1\n",
    "        print(\"PLAYER is the winner of this round!\")\n",
    "        print()\n",
    "    \n",
    "    elif cpu_total_score > player_total_score and cpu_total_score <= 21:\n",
    "        cpu_wins += 1\n",
    "        print(\"CPU is the winner of this round!\")\n",
    "        print()\n",
    "        \n",
    "    elif player_total_score > 21 and cpu_total_score <= 21:\n",
    "        cpu_wins += 1\n",
    "        print(\"CPU is the winner of this round!\")\n",
    "        print()\n",
    "    \n",
    "    else:\n",
    "        ties += 1\n",
    "        print(\"It's a tie !\")\n",
    "        print()\n",
    "        \n",
    "    print(f\"The score of the game in the round {round_number} is:\")\n",
    "    print(f\"PLAYER : {player_wins}\")\n",
    "    print(f\"CPU : {cpu_wins}\")\n",
    "    print(f\"ties : {ties}\")\n",
    "    print()\n",
    "    \n",
    "    option_quit_game()\n",
    "    \n",
    "    return None"
   ]
  },
  {
   "cell_type": "code",
   "execution_count": 13,
   "metadata": {},
   "outputs": [],
   "source": [
    "def print_final_result():\n",
    "    \n",
    "    print(f\"---------------------------------------------\")\n",
    "    print(f\"---------------------------------------------\")\n",
    "    \n",
    "    if player_wins > cpu_wins:\n",
    "        print(\"\\nPLAYER is the absolute winner!\\n\")\n",
    "    if cpu_wins > player_wins:\n",
    "        print(\"\\nCPU is the absolute winner!\\n\")\n",
    "    else:\n",
    "        print(\"\\nThere's no winner for this game!\\n\")\n",
    "    \n",
    "    print(f\"---------------------------------------------\")\n",
    "    print(f\"---------------------------------------------\")\n",
    "\n",
    "    return None"
   ]
  },
  {
   "cell_type": "raw",
   "metadata": {},
   "source": [
    "def check_winner(turn_number=turn_number, cpu_total_score=cpu_total_score):\n",
    "    \n",
    "    global round_break, draw_or_stop\n",
    "    \n",
    "    if turn_number>2 and cpu_total_score >=16 and draw_or_stop.casefold() == \"STOP\":   \n",
    "        round_break = True\n",
    "        \n",
    "    elif cpu_total_score>21 or player_total_score>21:\n",
    "        round_break = True\n",
    "    \n",
    "    return None"
   ]
  },
  {
   "cell_type": "markdown",
   "metadata": {},
   "source": [
    "## Main Code Execution"
   ]
  },
  {
   "cell_type": "code",
   "execution_count": 14,
   "metadata": {},
   "outputs": [
    {
     "name": "stdout",
     "output_type": "stream",
     "text": [
      "Choose the number of decks you would like to play with (from 1 to 8): \n",
      "&\n",
      "Please, try again. You need to choose an integer between 1 and 8 for the number of decks:\n",
      "1\n",
      "Please, try again. You need to choose an integer between 1 and 8 for the number of decks:\n",
      "1\n",
      "\n",
      "Nice choice! Your deck has then 52 CARDS and here are the cards in yout full deck:\n",
      "['2♠', '3♠', '4♠', '5♠', '6♠', '7♠', '8♠', '9♠', '10♠', 'J♠', 'Q♠', 'K♠', 'A♠', '2♥', '3♥', '4♥', '5♥', '6♥', '7♥', '8♥', '9♥', '10♥', 'J♥', 'Q♥', 'K♥', 'A♥', '2♦', '3♦', '4♦', '5♦', '6♦', '7♦', '8♦', '9♦', '10♦', 'J♦', 'Q♦', 'K♦', 'A♦', '2♣', '3♣', '4♣', '5♣', '6♣', '7♣', '8♣', '9♣', '10♣', 'J♣', 'Q♣', 'K♣', 'A♣']\n",
      "\n",
      "\n",
      "Press Enter to continue... Or Q to quit.\n",
      "\n",
      "------------------------------------ TURN 1 ------------------------------------\n",
      "**PLAYER TURN:**\n",
      "For this a new card has automatically been drawn to the player by the dealer (CPU).\n",
      "Here's the card : 5♦.\n",
      "\n",
      "**CPU TURN:**\n",
      "A new card has been drawn to the CPU.\n",
      "Here's the card : 10♠\n",
      "\n",
      "\n",
      "Press Enter to continue... Or Q to quit.\n",
      "\n"
     ]
    },
    {
     "ename": "NameError",
     "evalue": "name 'check_winner' is not defined",
     "output_type": "error",
     "traceback": [
      "\u001b[0;31m---------------------------------------------------------------------------\u001b[0m",
      "\u001b[0;31mNameError\u001b[0m                                 Traceback (most recent call last)",
      "\u001b[0;32m<ipython-input-14-1d7c62812912>\u001b[0m in \u001b[0;36m<module>\u001b[0;34m\u001b[0m\n\u001b[1;32m     11\u001b[0m         \u001b[0mcpu_turn\u001b[0m\u001b[0;34m(\u001b[0m\u001b[0mturn_number\u001b[0m\u001b[0;34m)\u001b[0m\u001b[0;34m\u001b[0m\u001b[0;34m\u001b[0m\u001b[0m\n\u001b[1;32m     12\u001b[0m \u001b[0;34m\u001b[0m\u001b[0m\n\u001b[0;32m---> 13\u001b[0;31m         \u001b[0mcheck_winner\u001b[0m\u001b[0;34m(\u001b[0m\u001b[0;34m)\u001b[0m\u001b[0;34m\u001b[0m\u001b[0;34m\u001b[0m\u001b[0m\n\u001b[0m\u001b[1;32m     14\u001b[0m \u001b[0;34m\u001b[0m\u001b[0m\n\u001b[1;32m     15\u001b[0m         \u001b[0;32mif\u001b[0m \u001b[0mturn_number\u001b[0m\u001b[0;34m>\u001b[0m\u001b[0;36m2\u001b[0m \u001b[0;32mand\u001b[0m \u001b[0mcpu_total_score\u001b[0m \u001b[0;34m>=\u001b[0m\u001b[0;36m16\u001b[0m \u001b[0;32mand\u001b[0m \u001b[0mdraw_or_stop\u001b[0m\u001b[0;34m.\u001b[0m\u001b[0mcasefold\u001b[0m\u001b[0;34m(\u001b[0m\u001b[0;34m)\u001b[0m \u001b[0;34m==\u001b[0m \u001b[0;34m\"STOP\"\u001b[0m\u001b[0;34m:\u001b[0m\u001b[0;34m\u001b[0m\u001b[0;34m\u001b[0m\u001b[0m\n",
      "\u001b[0;31mNameError\u001b[0m: name 'check_winner' is not defined"
     ]
    }
   ],
   "source": [
    "# Looping each ROUND of play\n",
    "while game_break == False:\n",
    "\n",
    "    # Reseting the main variables\n",
    "    reset_all()\n",
    "    \n",
    "    # Looping each TURN of play\n",
    "    while round_break == False:\n",
    "        \n",
    "        player_turn(turn_number)\n",
    "        cpu_turn(turn_number)\n",
    "        \n",
    "        #check_winner()\n",
    "        \n",
    "        if turn_number>2 and cpu_total_score >=16 and draw_or_stop.casefold() == \"STOP\":   \n",
    "            round_break = True\n",
    "        elif cpu_total_score>21 or player_total_score>21:\n",
    "            round_break = True\n",
    "        \n",
    "        if len(cards) > 0 and game_break == False:\n",
    "            print_round()\n",
    "        \n",
    "        turn_number += 1\n",
    "        \n",
    "    if len(cards) >0 and game_break == False:\n",
    "        round_winner()\n",
    "    \n",
    "    round_number += 1\n",
    "    \n",
    "print_final_result()"
   ]
  },
  {
   "cell_type": "code",
   "execution_count": null,
   "metadata": {},
   "outputs": [],
   "source": []
  }
 ],
 "metadata": {
  "kernelspec": {
   "display_name": "Python 3",
   "language": "python",
   "name": "python3"
  },
  "language_info": {
   "codemirror_mode": {
    "name": "ipython",
    "version": 3
   },
   "file_extension": ".py",
   "mimetype": "text/x-python",
   "name": "python",
   "nbconvert_exporter": "python",
   "pygments_lexer": "ipython3",
   "version": "3.9.1"
  }
 },
 "nbformat": 4,
 "nbformat_minor": 4
}

{
 "cells": [
  {
   "cell_type": "markdown",
   "metadata": {},
   "source": [
    "## Blackjack Game by Leonardo"
   ]
  },
  {
   "cell_type": "code",
   "execution_count": 18,
   "metadata": {},
   "outputs": [],
   "source": [
    "import random"
   ]
  },
  {
   "cell_type": "markdown",
   "metadata": {},
   "source": [
    "## Global variable declarations:"
   ]
  },
  {
   "cell_type": "code",
   "execution_count": 19,
   "metadata": {},
   "outputs": [],
   "source": [
    "player_cards = []\n",
    "cpu_cards = []\n",
    "\n",
    "round_score_player = 0\n",
    "round_score_cpu = 0\n",
    "\n",
    "wins_player = 0\n",
    "wins_cpu = 0\n",
    "ties = 0"
   ]
  },
  {
   "cell_type": "raw",
   "metadata": {},
   "source": [
    "Defining the deck of cards:"
   ]
  },
  {
   "cell_type": "code",
   "execution_count": 111,
   "metadata": {},
   "outputs": [
    {
     "name": "stdout",
     "output_type": "stream",
     "text": [
      "{'2-Clubs': 2, '3-Clubs': 3, '4-Clubs': 4, '5-Clubs': 5, '6-Clubs': 6, '7-Clubs': 7, '8-Clubs': 8, '9-Clubs': 9, '10-Clubs': 10, 'Jack-Clubs': 10, 'Queen-Clubs': 10, 'King-Clubs': 10, 'Ace-Clubs': 'choose', '2-Hearts': 2, '3-Hearts': 3, '4-Hearts': 4, '5-Hearts': 5, '6-Hearts': 6, '7-Hearts': 7, '8-Hearts': 8, '9-Hearts': 9, '10-Hearts': 10, 'Jack-Hearts': 10, 'Queen-Hearts': 10, 'King-Hearts': 10, 'Ace-Hearts': 'choose', '2-Diamonds': 2, '3-Diamonds': 3, '4-Diamonds': 4, '5-Diamonds': 5, '6-Diamonds': 6, '7-Diamonds': 7, '8-Diamonds': 8, '9-Diamonds': 9, '10-Diamonds': 10, 'Jack-Diamonds': 10, 'Queen-Diamonds': 10, 'King-Diamonds': 10, 'Ace-Diamonds': 'choose', '2-Spades': 2, '3-Spades': 3, '4-Spades': 4, '5-Spades': 5, '6-Spades': 6, '7-Spades': 7, '8-Spades': 8, '9-Spades': 9, '10-Spades': 10, 'Jack-Spades': 10, 'Queen-Spades': 10, 'King-Spades': 10, 'Ace-Spades': 'choose'}\n",
      "\n",
      "52\n"
     ]
    }
   ],
   "source": [
    "deck = {}\n",
    "# The deck will be composed by a dictionary, with keys defined as the card name and the values defining\n",
    "# the points/score for each card\n",
    "\n",
    "for i in [\"Clubs\", \"Hearts\", \"Diamonds\", \"Spades\"]:\n",
    "    for j in range(2,11):\n",
    "        deck[str(j)+\"-\"+i] = j\n",
    "\n",
    "    for k in [\"Jack\", \"Queen\", \"King\"]:\n",
    "        deck[str(k)+\"-\"+i] = 10\n",
    "\n",
    "    deck[\"Ace-\"+i] = \"choose\"\n",
    "\n",
    "print(deck)\n",
    "print()\n",
    "print(len(deck.keys()))"
   ]
  },
  {
   "cell_type": "code",
   "execution_count": 119,
   "metadata": {},
   "outputs": [],
   "source": [
    "def reset_cards(deck=deck):\n",
    "    \"\"\"This function has the objective of reseting the deck of cards after every times the game needs to restart round of the game,\n",
    "    since the deck is used with no replacement of cards during each turn of play\n",
    "    \n",
    "    Input: deck (as a dictionary)\n",
    "    Output: cards = multiple times the deck ( as a list)\"\"\"\n",
    "\n",
    "    number_of_decks_used = int(input(\"Choose the number of decks you would like to play with (from 1 to 8): \\n\"))\n",
    "    \n",
    "    deck_of_cards = []\n",
    "    for i in range(number_of_decks_used):\n",
    "        deck_of_cards += list(deck.keys())\n",
    "    \n",
    "    print(deck_of_cards)\n",
    "    print(len(deck_of_cards))\n",
    "    return deck_of_cards"
   ]
  },
  {
   "cell_type": "code",
   "execution_count": null,
   "metadata": {},
   "outputs": [],
   "source": []
  },
  {
   "cell_type": "code",
   "execution_count": 84,
   "metadata": {},
   "outputs": [],
   "source": [
    "def choice_of_cards(cards_deck):\n",
    "    chosen_card = random.choices(cards_deck)\n",
    "    return chosen_card[0]"
   ]
  },
  {
   "cell_type": "code",
   "execution_count": 86,
   "metadata": {},
   "outputs": [
    {
     "name": "stdout",
     "output_type": "stream",
     "text": [
      "5-Hearts\n"
     ]
    },
    {
     "data": {
      "text/plain": [
       "5"
      ]
     },
     "execution_count": 86,
     "metadata": {},
     "output_type": "execute_result"
    }
   ],
   "source": [
    "card1 = choice_of_cards(cards)\n",
    "print(card1)\n",
    "deck[card1]"
   ]
  },
  {
   "cell_type": "code",
   "execution_count": 49,
   "metadata": {},
   "outputs": [],
   "source": [
    "def turn_of_play(cards_deck=deck):\n",
    "    player"
   ]
  },
  {
   "cell_type": "code",
   "execution_count": 115,
   "metadata": {},
   "outputs": [],
   "source": [
    "def count_points(card_chosen, deck=deck):\n",
    "    \"\"\"This function returns the punctuation of each card (either draw by the player or the cpu)\n",
    "    \n",
    "    Input: card to be evaluated and the deck dictionary\n",
    "    Output: ponctuation of the card\"\"\"\n",
    "    \n",
    "    #print(deck[card_chosen])\n",
    "    \n",
    "    if deck[card_chosen] in range (0,11):\n",
    "        return deck[card_chosen]\n",
    "    \n",
    "    elif deck[card_chosen] == \"choose\":\n",
    "        flag = True\n",
    "        points = input(\"Nice ! You got an Ace ! Choose if you want to attribute 1 or 11 points to this card :\\n\")\n",
    "        while flag:\n",
    "            try:\n",
    "                points = int(points)\n",
    "            except:\n",
    "                points=input(\"Please, try again. You need to choose 1 or 11 points to this card :\\n\")\n",
    "            else:\n",
    "                if int(points) == 1 or int(points) == 11:\n",
    "                    flag = False\n",
    "                    break\n",
    "                else:\n",
    "                    points=input(\"Please, try again. You need to choose 1 or 11 points to this card :\\n\")\n",
    "        return int(points)\n",
    "    \n",
    "    else:\n",
    "        print(\"There's a problem with the ponctuation of cards.\")\n",
    "        return 0"
   ]
  },
  {
   "cell_type": "code",
   "execution_count": 117,
   "metadata": {},
   "outputs": [
    {
     "name": "stdout",
     "output_type": "stream",
     "text": [
      "10\n"
     ]
    },
    {
     "data": {
      "text/plain": [
       "10"
      ]
     },
     "execution_count": 117,
     "metadata": {},
     "output_type": "execute_result"
    }
   ],
   "source": [
    "count_points('10-Clubs', deck)"
   ]
  },
  {
   "cell_type": "code",
   "execution_count": 118,
   "metadata": {},
   "outputs": [],
   "source": [
    "def rounds(player_cards=player_cards, cpu_cards=cpu_cards, cards=cards, deck=deck):\n",
    "\n",
    "    player_card = choice_of_cards(cards)\n",
    "    cards = cards.remove(player_card)\n",
    "    player_cards.append(player_card)\n",
    "    \n",
    "    cpu_card = choice_of_cards(cards)\n",
    "    cards = cards.remove(cpu_card)\n",
    "    cpu_cards.append(cpu_card)\n",
    "    \n",
    "    return None"
   ]
  },
  {
   "cell_type": "markdown",
   "metadata": {},
   "source": [
    "## Main Code Execution"
   ]
  },
  {
   "cell_type": "code",
   "execution_count": null,
   "metadata": {},
   "outputs": [],
   "source": [
    "cards = reset_cards()\n",
    "\n",
    "\n",
    "\n",
    "\n",
    "\n",
    "\n",
    "\n",
    "\n",
    "\n",
    "\n",
    "cards = reset_cards()"
   ]
  }
 ],
 "metadata": {
  "kernelspec": {
   "display_name": "Python 3",
   "language": "python",
   "name": "python3"
  },
  "language_info": {
   "codemirror_mode": {
    "name": "ipython",
    "version": 3
   },
   "file_extension": ".py",
   "mimetype": "text/x-python",
   "name": "python",
   "nbconvert_exporter": "python",
   "pygments_lexer": "ipython3",
   "version": "3.9.1"
  }
 },
 "nbformat": 4,
 "nbformat_minor": 4
}

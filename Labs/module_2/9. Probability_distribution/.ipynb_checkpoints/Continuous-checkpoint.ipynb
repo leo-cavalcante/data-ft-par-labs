{
 "cells": [
  {
   "cell_type": "markdown",
   "metadata": {},
   "source": [
    "# Before your start:\n",
    "\n",
    "    Read the README.md file\n",
    "    Comment as much as you can and use the resources (README.md file)\n",
    "    Happy learning!"
   ]
  },
  {
   "cell_type": "markdown",
   "metadata": {},
   "source": [
    "In this exercise, we  will generate random numbers from the continuous disributions we learned in the lesson. There are two ways to generate random numbers:\n",
    "\n",
    "1. Using the numpy library \n",
    "1. using the Scipy library \n",
    "\n",
    "Use either or both of the lbraries in this exercise."
   ]
  },
  {
   "cell_type": "code",
   "execution_count": 15,
   "metadata": {},
   "outputs": [],
   "source": [
    "import numpy as np\n",
    "import scipy.stats\n",
    "import matplotlib.pyplot as plt"
   ]
  },
  {
   "cell_type": "markdown",
   "metadata": {},
   "source": [
    "## Uniform Distribution\n",
    "\n",
    "To generate uniform random numbers between any two given values using scipy, we can either use the following code or the code that we have\n",
    "discussed in class:"
   ]
  },
  {
   "cell_type": "code",
   "execution_count": 1,
   "metadata": {},
   "outputs": [
    {
     "name": "stdout",
     "output_type": "stream",
     "text": [
      "[2.56228972 2.94033483 2.35975956 2.15095767 2.51248577 2.30843955\n",
      " 2.79100289 2.04405148 2.12477239 2.65563941]\n"
     ]
    }
   ],
   "source": [
    "from scipy.stats import uniform\n",
    "x = uniform.rvs(size=10)\n",
    "a = 2\n",
    "b = 3\n",
    "randoms = a + (b-a)*x\n",
    "print(randoms)"
   ]
  },
  {
   "cell_type": "markdown",
   "metadata": {},
   "source": [
    "**Your task:**\n",
    "\n",
    "1. Based on the code above, write a function that generates uniformly distributed random numbers. There are several requirements for your function:\n",
    "    * It should accept 3 parameters: \n",
    "        * `bottom` - the lower boundary of the generated numbers\n",
    "        * `ceiling` - the upper boundary of the generated numbers\n",
    "        * `count` - how many numbers to generate\n",
    "    * It should return an array of uniformly distributed random numbers\n",
    "\n",
    "1. Call your function with 2 sets of params below:\n",
    "    * bottom=10, ceiling=15, count=100\n",
    "    * bottom=10, ceiling=60, count=1,000\n",
    "\n",
    "1. Plot the uniform distributions generated above using histograms, where x axis is the value and y axis is the count. Let the histogram's number of bins be 10.\n",
    "\n",
    "Your output should look like below:\n",
    "\n",
    "![uniform distribution](ud.png)"
   ]
  },
  {
   "cell_type": "code",
   "execution_count": 2,
   "metadata": {},
   "outputs": [],
   "source": [
    "# your code here\n",
    "def gen_unif(bottom, ceiling, count):\n",
    "    x = uniform.rvs(size=count)\n",
    "    return bottom + (ceiling-bottom)*x"
   ]
  },
  {
   "cell_type": "markdown",
   "metadata": {},
   "source": [
    "How are the two distributions different?"
   ]
  },
  {
   "cell_type": "code",
   "execution_count": 19,
   "metadata": {},
   "outputs": [
    {
     "name": "stdout",
     "output_type": "stream",
     "text": [
      "Min: 10.05, Mean: 12.32, Max: 14.98\n"
     ]
    },
    {
     "data": {
      "text/plain": [
       "(array([4., 3., 2., 2., 4., 4., 2., 0., 1., 2., 4., 0., 2., 2., 1., 4., 0.,\n",
       "        2., 3., 0., 3., 1., 1., 6., 3., 1., 5., 1., 1., 2., 0., 3., 4., 2.,\n",
       "        1., 1., 3., 0., 2., 2., 1., 3., 2., 1., 0., 1., 2., 1., 3., 2.]),\n",
       " array([10.04791087, 10.14651234, 10.24511381, 10.34371528, 10.44231674,\n",
       "        10.54091821, 10.63951968, 10.73812115, 10.83672262, 10.93532409,\n",
       "        11.03392556, 11.13252702, 11.23112849, 11.32972996, 11.42833143,\n",
       "        11.5269329 , 11.62553437, 11.72413584, 11.8227373 , 11.92133877,\n",
       "        12.01994024, 12.11854171, 12.21714318, 12.31574465, 12.41434611,\n",
       "        12.51294758, 12.61154905, 12.71015052, 12.80875199, 12.90735346,\n",
       "        13.00595493, 13.10455639, 13.20315786, 13.30175933, 13.4003608 ,\n",
       "        13.49896227, 13.59756374, 13.69616521, 13.79476667, 13.89336814,\n",
       "        13.99196961, 14.09057108, 14.18917255, 14.28777402, 14.38637548,\n",
       "        14.48497695, 14.58357842, 14.68217989, 14.78078136, 14.87938283,\n",
       "        14.9779843 ]),\n",
       " <BarContainer object of 50 artists>)"
      ]
     },
     "execution_count": 19,
     "metadata": {},
     "output_type": "execute_result"
    },
    {
     "data": {
      "image/png": "[encoded data removed]",
      "text/plain": [
       "<Figure size 432x288 with 1 Axes>"
      ]
     },
     "metadata": {
      "needs_background": "light"
     },
     "output_type": "display_data"
    }
   ],
   "source": [
    "i = gen_unif(10, 15, 100)\n",
    "print(f\"Min: {i.min().round(2)}, Mean: {i.mean().round(2)}, Max: {i.max().round(2)}\")\n",
    "\n",
    "plt.hist(i, bins=50)"
   ]
  },
  {
   "cell_type": "code",
   "execution_count": 20,
   "metadata": {},
   "outputs": [
    {
     "name": "stdout",
     "output_type": "stream",
     "text": [
      "Min: 10.07, Mean: 35.05, Max: 59.99\n"
     ]
    },
    {
     "data": {
      "text/plain": [
       "(array([21., 25., 22., 23., 19., 16., 18., 16., 19., 19., 19., 12., 23.,\n",
       "        19., 21., 26., 13., 15., 21., 22., 25., 24., 15., 31., 20., 26.,\n",
       "        20., 17., 15., 24., 14., 25., 18., 25., 19., 19., 26., 12., 10.,\n",
       "        16., 27., 18., 20., 15., 31., 14., 21., 19., 28., 17.]),\n",
       " array([10.06923067, 11.06762828, 12.06602589, 13.0644235 , 14.06282111,\n",
       "        15.06121872, 16.05961634, 17.05801395, 18.05641156, 19.05480917,\n",
       "        20.05320678, 21.0516044 , 22.05000201, 23.04839962, 24.04679723,\n",
       "        25.04519484, 26.04359245, 27.04199007, 28.04038768, 29.03878529,\n",
       "        30.0371829 , 31.03558051, 32.03397812, 33.03237574, 34.03077335,\n",
       "        35.02917096, 36.02756857, 37.02596618, 38.02436379, 39.02276141,\n",
       "        40.02115902, 41.01955663, 42.01795424, 43.01635185, 44.01474947,\n",
       "        45.01314708, 46.01154469, 47.0099423 , 48.00833991, 49.00673752,\n",
       "        50.00513514, 51.00353275, 52.00193036, 53.00032797, 53.99872558,\n",
       "        54.99712319, 55.99552081, 56.99391842, 57.99231603, 58.99071364,\n",
       "        59.98911125]),\n",
       " <BarContainer object of 50 artists>)"
      ]
     },
     "execution_count": 20,
     "metadata": {},
     "output_type": "execute_result"
    },
    {
     "data": {
      "image/png": "[encoded data removed]",
      "text/plain": [
       "<Figure size 432x288 with 1 Axes>"
      ]
     },
     "metadata": {
      "needs_background": "light"
     },
     "output_type": "display_data"
    }
   ],
   "source": [
    "j = gen_unif(10, 60, 1000)\n",
    "print(f\"Min: {j.min().round(2)}, Mean: {j.mean().round(2)}, Max: {j.max().round(2)}\")\n",
    "\n",
    "plt.hist(j, bins=50)"
   ]
  },
  {
   "cell_type": "code",
   "execution_count": 22,
   "metadata": {},
   "outputs": [
    {
     "name": "stdout",
     "output_type": "stream",
     "text": [
      "\n",
      "The main difference is in the mean, which increased of 23.\n",
      "The range is also different, since the max has been increased from 15 to close to 60.\n",
      "\n"
     ]
    }
   ],
   "source": [
    "# your answer below\n",
    "print(\"\"\"\n",
    "The main difference is in the mean, which increased of 23.\n",
    "The range is also different, since the max has been increased from 15 to close to 60.\n",
    "\"\"\")"
   ]
  },
  {
   "cell_type": "markdown",
   "metadata": {},
   "source": [
    "## Normal Distribution\n",
    "\n",
    "1. In the same way in the Uniform Distribution challenge, write a function that generates normally distributed random numbers.\n",
    "1. Generate 1,000 normally distributed numbers with the average of 10 and standard deviation of 1\n",
    "1. Generate 1,000 normally distributed numbers with the average of 10 and standard deviation of 50\n",
    "2. Plot the distributions of the data generated.\n",
    "\n",
    "Expected output:\n",
    "\n",
    "![normal distribution](nd.png)"
   ]
  },
  {
   "cell_type": "code",
   "execution_count": 28,
   "metadata": {},
   "outputs": [],
   "source": [
    "# your code here\n",
    "def gen_normal_distr(average, stddev, count):\n",
    "    return np.random.normal(loc=average, scale=stddev, size=count)"
   ]
  },
  {
   "cell_type": "code",
   "execution_count": 33,
   "metadata": {},
   "outputs": [
    {
     "data": {
      "text/plain": [
       "(array([  4.,  13.,  52., 135., 233., 248., 188.,  88.,  30.,   9.]),\n",
       " array([ 6.41368831,  7.0942848 ,  7.7748813 ,  8.4554778 ,  9.1360743 ,\n",
       "         9.8166708 , 10.4972673 , 11.1778638 , 11.8584603 , 12.5390568 ,\n",
       "        13.2196533 ]),\n",
       " <BarContainer object of 10 artists>)"
      ]
     },
     "execution_count": 33,
     "metadata": {},
     "output_type": "execute_result"
    },
    {
     "data": {
      "image/png": "[encoded data removed]",
      "text/plain": [
       "<Figure size 432x288 with 1 Axes>"
      ]
     },
     "metadata": {
      "needs_background": "light"
     },
     "output_type": "display_data"
    }
   ],
   "source": [
    "k = gen_normal_distr(10, 1, 1000)\n",
    "plt.hist(k)"
   ]
  },
  {
   "cell_type": "code",
   "execution_count": 34,
   "metadata": {},
   "outputs": [
    {
     "data": {
      "text/plain": [
       "(array([  9.,  16.,  76., 165., 268., 227., 156.,  64.,  14.,   5.]),\n",
       " array([-152.64790268, -119.49618692,  -86.34447117,  -53.19275542,\n",
       "         -20.04103967,   13.11067609,   46.26239184,   79.41410759,\n",
       "         112.56582334,  145.7175391 ,  178.86925485]),\n",
       " <BarContainer object of 10 artists>)"
      ]
     },
     "execution_count": 34,
     "metadata": {},
     "output_type": "execute_result"
    },
    {
     "data": {
      "image/png": "[encoded data removed]",
      "text/plain": [
       "<Figure size 432x288 with 1 Axes>"
      ]
     },
     "metadata": {
      "needs_background": "light"
     },
     "output_type": "display_data"
    }
   ],
   "source": [
    "l = gen_normal_distr(10, 50, 1000)\n",
    "plt.hist(l)"
   ]
  },
  {
   "cell_type": "markdown",
   "metadata": {},
   "source": [
    "How are the two distributions different?"
   ]
  },
  {
   "cell_type": "code",
   "execution_count": 37,
   "metadata": {},
   "outputs": [
    {
     "name": "stdout",
     "output_type": "stream",
     "text": [
      "\n",
      "The second one has a higher range (of around 300), which is undestandablesince its standard deviation\n",
      "is 50 times higher.\n",
      "\n"
     ]
    }
   ],
   "source": [
    "# your answer below\n",
    "\n",
    "print(\"\"\"\n",
    "The second one has a higher range (of around 300), which is undestandablesince its standard deviation\n",
    "is 50 times higher.\n",
    "\"\"\")"
   ]
  },
  {
   "cell_type": "markdown",
   "metadata": {},
   "source": [
    "## Normal Distribution of Real Data\n",
    "\n",
    "In this challenge we are going to take a look the real data. We will use vehicles.csv file for this exercise"
   ]
  },
  {
   "cell_type": "markdown",
   "metadata": {},
   "source": [
    "First import vehicles.csv."
   ]
  },
  {
   "cell_type": "code",
   "execution_count": 38,
   "metadata": {},
   "outputs": [
    {
     "data": {
      "text/plain": [
       "'/Users/oleoaraujo/Documents/GitHub/data-ft-par-labs/Labs/module_2/9. Probability_distribution'"
      ]
     },
     "execution_count": 38,
     "metadata": {},
     "output_type": "execute_result"
    }
   ],
   "source": [
    "import os\n",
    "os.getcwd()\n",
    "\n"
   ]
  },
  {
   "cell_type": "markdown",
   "metadata": {},
   "source": [
    "Then plot the histograms for the following variables:\n",
    "\n",
    "1. Fuel Barrels/Year"
   ]
  },
  {
   "cell_type": "code",
   "execution_count": null,
   "metadata": {},
   "outputs": [],
   "source": [
    "# your code here"
   ]
  },
  {
   "cell_type": "markdown",
   "metadata": {},
   "source": [
    "2. CO2 Emission Grams/Mile "
   ]
  },
  {
   "cell_type": "code",
   "execution_count": null,
   "metadata": {},
   "outputs": [],
   "source": [
    "# your code here"
   ]
  },
  {
   "cell_type": "markdown",
   "metadata": {},
   "source": [
    "3. Combined MPG"
   ]
  },
  {
   "cell_type": "code",
   "execution_count": null,
   "metadata": {},
   "outputs": [],
   "source": [
    "# your code here"
   ]
  },
  {
   "cell_type": "markdown",
   "metadata": {},
   "source": [
    "Which one(s) of the variables are nearly normally distributed? How do you know?"
   ]
  },
  {
   "cell_type": "code",
   "execution_count": null,
   "metadata": {},
   "outputs": [],
   "source": [
    "# your answer here"
   ]
  },
  {
   "cell_type": "markdown",
   "metadata": {},
   "source": [
    "## Exponential Distribution"
   ]
  },
  {
   "cell_type": "markdown",
   "metadata": {},
   "source": [
    "1. Using `numpy.random.exponential`, create a function that returns a list of numbers exponentially distributed with the mean of 10. \n",
    "\n",
    "1. Use the function to generate two number sequences with the size of 1 and 100.\n",
    "\n",
    "1. Plot the distributions as histograms with the nubmer of bins as 100.\n",
    "\n",
    "Your output should look like below:\n",
    "\n",
    "![exponential distribution](ed.png)"
   ]
  },
  {
   "cell_type": "code",
   "execution_count": null,
   "metadata": {},
   "outputs": [],
   "source": [
    "# your code here"
   ]
  },
  {
   "cell_type": "markdown",
   "metadata": {},
   "source": [
    "How are the two distributions different?"
   ]
  },
  {
   "cell_type": "code",
   "execution_count": null,
   "metadata": {},
   "outputs": [],
   "source": [
    "# your answer here"
   ]
  },
  {
   "cell_type": "markdown",
   "metadata": {},
   "source": [
    "## Exponential Distribution of Real Data\n",
    "\n",
    "Suppose that the amount of time one spends in a bank is exponentially distributed with mean as 10 minutes (i.e. λ = 1/10). What is the probability that a customer will spend less than fifteen minutes in the bank? \n",
    "\n",
    "Write a code in python to solve this problem"
   ]
  },
  {
   "cell_type": "code",
   "execution_count": null,
   "metadata": {},
   "outputs": [],
   "source": [
    "# your answer here\n",
    "# Hint: This is same as saying P(x<15)"
   ]
  },
  {
   "cell_type": "markdown",
   "metadata": {},
   "source": [
    "What is the probability that the customer will spend more than 15 minutes"
   ]
  },
  {
   "cell_type": "code",
   "execution_count": null,
   "metadata": {},
   "outputs": [],
   "source": [
    "# your answer here"
   ]
  },
  {
   "cell_type": "code",
   "execution_count": null,
   "metadata": {},
   "outputs": [],
   "source": []
  }
 ],
 "metadata": {
  "kernelspec": {
   "display_name": "Python 3",
   "language": "python",
   "name": "python3"
  },
  "language_info": {
   "codemirror_mode": {
    "name": "ipython",
    "version": 3
   },
   "file_extension": ".py",
   "mimetype": "text/x-python",
   "name": "python",
   "nbconvert_exporter": "python",
   "pygments_lexer": "ipython3",
   "version": "3.9.1"
  }
 },
 "nbformat": 4,
 "nbformat_minor": 2
}

{
 "cells": [
  {
   "cell_type": "markdown",
   "metadata": {},
   "source": [
    "# Before your start:\n",
    "\n",
    "    Read the README.md file\n",
    "    Comment as much as you can and use the resources (README.md file)\n",
    "    Happy learning!"
   ]
  },
  {
   "cell_type": "markdown",
   "metadata": {},
   "source": [
    "In this exercise, we  will generate random numbers from the continuous disributions we learned in the lesson. There are two ways to generate random numbers:\n",
    "\n",
    "1. Using the numpy library \n",
    "1. using the Scipy library \n",
    "\n",
    "Use either or both of the lbraries in this exercise."
   ]
  },
  {
   "cell_type": "code",
   "execution_count": 1,
   "metadata": {},
   "outputs": [],
   "source": [
    "import numpy as np\n",
    "import pandas as pd\n",
    "import scipy.stats\n",
    "import matplotlib.pyplot as plt"
   ]
  },
  {
   "cell_type": "markdown",
   "metadata": {},
   "source": [
    "## Uniform Distribution\n",
    "\n",
    "To generate uniform random numbers between any two given values using scipy, we can either use the following code or the code that we have\n",
    "discussed in class:"
   ]
  },
  {
   "cell_type": "code",
   "execution_count": 1,
   "metadata": {},
   "outputs": [
    {
     "name": "stdout",
     "output_type": "stream",
     "text": [
      "[2.56228972 2.94033483 2.35975956 2.15095767 2.51248577 2.30843955\n",
      " 2.79100289 2.04405148 2.12477239 2.65563941]\n"
     ]
    }
   ],
   "source": [
    "from scipy.stats import uniform\n",
    "x = uniform.rvs(size=10)\n",
    "a = 2\n",
    "b = 3\n",
    "randoms = a + (b-a)*x\n",
    "print(randoms)"
   ]
  },
  {
   "cell_type": "markdown",
   "metadata": {},
   "source": [
    "**Your task:**\n",
    "\n",
    "1. Based on the code above, write a function that generates uniformly distributed random numbers. There are several requirements for your function:\n",
    "    * It should accept 3 parameters: \n",
    "        * `bottom` - the lower boundary of the generated numbers\n",
    "        * `ceiling` - the upper boundary of the generated numbers\n",
    "        * `count` - how many numbers to generate\n",
    "    * It should return an array of uniformly distributed random numbers\n",
    "\n",
    "1. Call your function with 2 sets of params below:\n",
    "    * bottom=10, ceiling=15, count=100\n",
    "    * bottom=10, ceiling=60, count=1,000\n",
    "\n",
    "1. Plot the uniform distributions generated above using histograms, where x axis is the value and y axis is the count. Let the histogram's number of bins be 10.\n",
    "\n",
    "Your output should look like below:\n",
    "\n",
    "![uniform distribution](ud.png)"
   ]
  },
  {
   "cell_type": "code",
   "execution_count": 2,
   "metadata": {},
   "outputs": [],
   "source": [
    "# your code here\n",
    "def gen_unif(bottom, ceiling, count):\n",
    "    x = uniform.rvs(size=count)\n",
    "    return bottom + (ceiling-bottom)*x"
   ]
  },
  {
   "cell_type": "markdown",
   "metadata": {},
   "source": [
    "How are the two distributions different?"
   ]
  },
  {
   "cell_type": "code",
   "execution_count": 19,
   "metadata": {},
   "outputs": [
    {
     "name": "stdout",
     "output_type": "stream",
     "text": [
      "Min: 10.05, Mean: 12.32, Max: 14.98\n"
     ]
    },
    {
     "data": {
      "text/plain": [
       "(array([4., 3., 2., 2., 4., 4., 2., 0., 1., 2., 4., 0., 2., 2., 1., 4., 0.,\n",
       "        2., 3., 0., 3., 1., 1., 6., 3., 1., 5., 1., 1., 2., 0., 3., 4., 2.,\n",
       "        1., 1., 3., 0., 2., 2., 1., 3., 2., 1., 0., 1., 2., 1., 3., 2.]),\n",
       " array([10.04791087, 10.14651234, 10.24511381, 10.34371528, 10.44231674,\n",
       "        10.54091821, 10.63951968, 10.73812115, 10.83672262, 10.93532409,\n",
       "        11.03392556, 11.13252702, 11.23112849, 11.32972996, 11.42833143,\n",
       "        11.5269329 , 11.62553437, 11.72413584, 11.8227373 , 11.92133877,\n",
       "        12.01994024, 12.11854171, 12.21714318, 12.31574465, 12.41434611,\n",
       "        12.51294758, 12.61154905, 12.71015052, 12.80875199, 12.90735346,\n",
       "        13.00595493, 13.10455639, 13.20315786, 13.30175933, 13.4003608 ,\n",
       "        13.49896227, 13.59756374, 13.69616521, 13.79476667, 13.89336814,\n",
       "        13.99196961, 14.09057108, 14.18917255, 14.28777402, 14.38637548,\n",
       "        14.48497695, 14.58357842, 14.68217989, 14.78078136, 14.87938283,\n",
       "        14.9779843 ]),\n",
       " <BarContainer object of 50 artists>)"
      ]
     },
     "execution_count": 19,
     "metadata": {},
     "output_type": "execute_result"
    },
    {
     "data": {
      "image/png": "[encoded data removed]",
      "text/plain": [
       "<Figure size 432x288 with 1 Axes>"
      ]
     },
     "metadata": {
      "needs_background": "light"
     },
     "output_type": "display_data"
    }
   ],
   "source": [
    "i = gen_unif(10, 15, 100)\n",
    "print(f\"Min: {i.min().round(2)}, Mean: {i.mean().round(2)}, Max: {i.max().round(2)}\")\n",
    "\n",
    "plt.hist(i, bins=50)"
   ]
  },
  {
   "cell_type": "code",
   "execution_count": 20,
   "metadata": {},
   "outputs": [
    {
     "name": "stdout",
     "output_type": "stream",
     "text": [
      "Min: 10.07, Mean: 35.05, Max: 59.99\n"
     ]
    },
    {
     "data": {
      "text/plain": [
       "(array([21., 25., 22., 23., 19., 16., 18., 16., 19., 19., 19., 12., 23.,\n",
       "        19., 21., 26., 13., 15., 21., 22., 25., 24., 15., 31., 20., 26.,\n",
       "        20., 17., 15., 24., 14., 25., 18., 25., 19., 19., 26., 12., 10.,\n",
       "        16., 27., 18., 20., 15., 31., 14., 21., 19., 28., 17.]),\n",
       " array([10.06923067, 11.06762828, 12.06602589, 13.0644235 , 14.06282111,\n",
       "        15.06121872, 16.05961634, 17.05801395, 18.05641156, 19.05480917,\n",
       "        20.05320678, 21.0516044 , 22.05000201, 23.04839962, 24.04679723,\n",
       "        25.04519484, 26.04359245, 27.04199007, 28.04038768, 29.03878529,\n",
       "        30.0371829 , 31.03558051, 32.03397812, 33.03237574, 34.03077335,\n",
       "        35.02917096, 36.02756857, 37.02596618, 38.02436379, 39.02276141,\n",
       "        40.02115902, 41.01955663, 42.01795424, 43.01635185, 44.01474947,\n",
       "        45.01314708, 46.01154469, 47.0099423 , 48.00833991, 49.00673752,\n",
       "        50.00513514, 51.00353275, 52.00193036, 53.00032797, 53.99872558,\n",
       "        54.99712319, 55.99552081, 56.99391842, 57.99231603, 58.99071364,\n",
       "        59.98911125]),\n",
       " <BarContainer object of 50 artists>)"
      ]
     },
     "execution_count": 20,
     "metadata": {},
     "output_type": "execute_result"
    },
    {
     "data": {
      "image/png": "[encoded data removed]",
      "text/plain": [
       "<Figure size 432x288 with 1 Axes>"
      ]
     },
     "metadata": {
      "needs_background": "light"
     },
     "output_type": "display_data"
    }
   ],
   "source": [
    "j = gen_unif(10, 60, 1000)\n",
    "print(f\"Min: {j.min().round(2)}, Mean: {j.mean().round(2)}, Max: {j.max().round(2)}\")\n",
    "\n",
    "plt.hist(j, bins=50)"
   ]
  },
  {
   "cell_type": "code",
   "execution_count": 22,
   "metadata": {},
   "outputs": [
    {
     "name": "stdout",
     "output_type": "stream",
     "text": [
      "\n",
      "The main difference is in the mean, which increased of 23.\n",
      "The range is also different, since the max has been increased from 15 to close to 60.\n",
      "\n"
     ]
    }
   ],
   "source": [
    "# your answer below\n",
    "print(\"\"\"\n",
    "The main difference is in the mean, which increased of 23.\n",
    "The range is also different, since the max has been increased from 15 to close to 60.\n",
    "\"\"\")"
   ]
  },
  {
   "cell_type": "markdown",
   "metadata": {},
   "source": [
    "## Normal Distribution\n",
    "\n",
    "1. In the same way in the Uniform Distribution challenge, write a function that generates normally distributed random numbers.\n",
    "1. Generate 1,000 normally distributed numbers with the average of 10 and standard deviation of 1\n",
    "1. Generate 1,000 normally distributed numbers with the average of 10 and standard deviation of 50\n",
    "2. Plot the distributions of the data generated.\n",
    "\n",
    "Expected output:\n",
    "\n",
    "![normal distribution](nd.png)"
   ]
  },
  {
   "cell_type": "code",
   "execution_count": 28,
   "metadata": {},
   "outputs": [],
   "source": [
    "# your code here\n",
    "def gen_normal_distr(average, stddev, count):\n",
    "    return np.random.normal(loc=average, scale=stddev, size=count)"
   ]
  },
  {
   "cell_type": "code",
   "execution_count": 33,
   "metadata": {},
   "outputs": [
    {
     "data": {
      "text/plain": [
       "(array([  4.,  13.,  52., 135., 233., 248., 188.,  88.,  30.,   9.]),\n",
       " array([ 6.41368831,  7.0942848 ,  7.7748813 ,  8.4554778 ,  9.1360743 ,\n",
       "         9.8166708 , 10.4972673 , 11.1778638 , 11.8584603 , 12.5390568 ,\n",
       "        13.2196533 ]),\n",
       " <BarContainer object of 10 artists>)"
      ]
     },
     "execution_count": 33,
     "metadata": {},
     "output_type": "execute_result"
    },
    {
     "data": {
      "image/png": "[encoded data removed]",
      "text/plain": [
       "<Figure size 432x288 with 1 Axes>"
      ]
     },
     "metadata": {
      "needs_background": "light"
     },
     "output_type": "display_data"
    }
   ],
   "source": [
    "k = gen_normal_distr(10, 1, 1000)\n",
    "plt.hist(k)"
   ]
  },
  {
   "cell_type": "code",
   "execution_count": 34,
   "metadata": {},
   "outputs": [
    {
     "data": {
      "text/plain": [
       "(array([  9.,  16.,  76., 165., 268., 227., 156.,  64.,  14.,   5.]),\n",
       " array([-152.64790268, -119.49618692,  -86.34447117,  -53.19275542,\n",
       "         -20.04103967,   13.11067609,   46.26239184,   79.41410759,\n",
       "         112.56582334,  145.7175391 ,  178.86925485]),\n",
       " <BarContainer object of 10 artists>)"
      ]
     },
     "execution_count": 34,
     "metadata": {},
     "output_type": "execute_result"
    },
    {
     "data": {
      "image/png": "[encoded data removed]",
      "text/plain": [
       "<Figure size 432x288 with 1 Axes>"
      ]
     },
     "metadata": {
      "needs_background": "light"
     },
     "output_type": "display_data"
    }
   ],
   "source": [
    "l = gen_normal_distr(10, 50, 1000)\n",
    "plt.hist(l)"
   ]
  },
  {
   "cell_type": "markdown",
   "metadata": {},
   "source": [
    "How are the two distributions different?"
   ]
  },
  {
   "cell_type": "code",
   "execution_count": 37,
   "metadata": {},
   "outputs": [
    {
     "name": "stdout",
     "output_type": "stream",
     "text": [
      "\n",
      "The second one has a higher range (of around 300), which is undestandablesince its standard deviation\n",
      "is 50 times higher.\n",
      "\n"
     ]
    }
   ],
   "source": [
    "# your answer below\n",
    "\n",
    "print(\"\"\"\n",
    "The second one has a higher range (of around 300), which is undestandablesince its standard deviation\n",
    "is 50 times higher.\n",
    "\"\"\")"
   ]
  },
  {
   "cell_type": "markdown",
   "metadata": {},
   "source": [
    "## Normal Distribution of Real Data\n",
    "\n",
    "In this challenge we are going to take a look the real data. We will use vehicles.csv file for this exercise"
   ]
  },
  {
   "cell_type": "markdown",
   "metadata": {},
   "source": [
    "First import vehicles.csv."
   ]
  },
  {
   "cell_type": "code",
   "execution_count": 2,
   "metadata": {},
   "outputs": [],
   "source": [
    "import os\n",
    "os.getcwd()\n",
    "\n",
    "vehicles = pd.read_csv(\"/Users/oleoaraujo/Documents/GitHub/data-ft-par-labs/Labs/data/vehicles.csv\")"
   ]
  },
  {
   "cell_type": "code",
   "execution_count": 3,
   "metadata": {},
   "outputs": [
    {
     "data": {
      "text/html": [
       "<div>\n",
       "<style scoped>\n",
       "    .dataframe tbody tr th:only-of-type {\n",
       "        vertical-align: middle;\n",
       "    }\n",
       "\n",
       "    .dataframe tbody tr th {\n",
       "        vertical-align: top;\n",
       "    }\n",
       "\n",
       "    .dataframe thead th {\n",
       "        text-align: right;\n",
       "    }\n",
       "</style>\n",
       "<table border=\"1\" class=\"dataframe\">\n",
       "  <thead>\n",
       "    <tr style=\"text-align: right;\">\n",
       "      <th></th>\n",
       "      <th>Make</th>\n",
       "      <th>Model</th>\n",
       "      <th>Year</th>\n",
       "      <th>Engine Displacement</th>\n",
       "      <th>Cylinders</th>\n",
       "      <th>Transmission</th>\n",
       "      <th>Drivetrain</th>\n",
       "      <th>Vehicle Class</th>\n",
       "      <th>Fuel Type</th>\n",
       "      <th>Fuel Barrels/Year</th>\n",
       "      <th>City MPG</th>\n",
       "      <th>Highway MPG</th>\n",
       "      <th>Combined MPG</th>\n",
       "      <th>CO2 Emission Grams/Mile</th>\n",
       "      <th>Fuel Cost/Year</th>\n",
       "    </tr>\n",
       "  </thead>\n",
       "  <tbody>\n",
       "    <tr>\n",
       "      <th>0</th>\n",
       "      <td>AM General</td>\n",
       "      <td>DJ Po Vehicle 2WD</td>\n",
       "      <td>1984</td>\n",
       "      <td>2.5</td>\n",
       "      <td>4.0</td>\n",
       "      <td>Automatic 3-spd</td>\n",
       "      <td>2-Wheel Drive</td>\n",
       "      <td>Special Purpose Vehicle 2WD</td>\n",
       "      <td>Regular</td>\n",
       "      <td>19.388824</td>\n",
       "      <td>18</td>\n",
       "      <td>17</td>\n",
       "      <td>17</td>\n",
       "      <td>522.764706</td>\n",
       "      <td>1950</td>\n",
       "    </tr>\n",
       "    <tr>\n",
       "      <th>1</th>\n",
       "      <td>AM General</td>\n",
       "      <td>FJ8c Post Office</td>\n",
       "      <td>1984</td>\n",
       "      <td>4.2</td>\n",
       "      <td>6.0</td>\n",
       "      <td>Automatic 3-spd</td>\n",
       "      <td>2-Wheel Drive</td>\n",
       "      <td>Special Purpose Vehicle 2WD</td>\n",
       "      <td>Regular</td>\n",
       "      <td>25.354615</td>\n",
       "      <td>13</td>\n",
       "      <td>13</td>\n",
       "      <td>13</td>\n",
       "      <td>683.615385</td>\n",
       "      <td>2550</td>\n",
       "    </tr>\n",
       "    <tr>\n",
       "      <th>2</th>\n",
       "      <td>AM General</td>\n",
       "      <td>Post Office DJ5 2WD</td>\n",
       "      <td>1985</td>\n",
       "      <td>2.5</td>\n",
       "      <td>4.0</td>\n",
       "      <td>Automatic 3-spd</td>\n",
       "      <td>Rear-Wheel Drive</td>\n",
       "      <td>Special Purpose Vehicle 2WD</td>\n",
       "      <td>Regular</td>\n",
       "      <td>20.600625</td>\n",
       "      <td>16</td>\n",
       "      <td>17</td>\n",
       "      <td>16</td>\n",
       "      <td>555.437500</td>\n",
       "      <td>2100</td>\n",
       "    </tr>\n",
       "    <tr>\n",
       "      <th>3</th>\n",
       "      <td>AM General</td>\n",
       "      <td>Post Office DJ8 2WD</td>\n",
       "      <td>1985</td>\n",
       "      <td>4.2</td>\n",
       "      <td>6.0</td>\n",
       "      <td>Automatic 3-spd</td>\n",
       "      <td>Rear-Wheel Drive</td>\n",
       "      <td>Special Purpose Vehicle 2WD</td>\n",
       "      <td>Regular</td>\n",
       "      <td>25.354615</td>\n",
       "      <td>13</td>\n",
       "      <td>13</td>\n",
       "      <td>13</td>\n",
       "      <td>683.615385</td>\n",
       "      <td>2550</td>\n",
       "    </tr>\n",
       "    <tr>\n",
       "      <th>4</th>\n",
       "      <td>ASC Incorporated</td>\n",
       "      <td>GNX</td>\n",
       "      <td>1987</td>\n",
       "      <td>3.8</td>\n",
       "      <td>6.0</td>\n",
       "      <td>Automatic 4-spd</td>\n",
       "      <td>Rear-Wheel Drive</td>\n",
       "      <td>Midsize Cars</td>\n",
       "      <td>Premium</td>\n",
       "      <td>20.600625</td>\n",
       "      <td>14</td>\n",
       "      <td>21</td>\n",
       "      <td>16</td>\n",
       "      <td>555.437500</td>\n",
       "      <td>2550</td>\n",
       "    </tr>\n",
       "  </tbody>\n",
       "</table>\n",
       "</div>"
      ],
      "text/plain": [
       "               Make                Model  Year  Engine Displacement  \\\n",
       "0        AM General    DJ Po Vehicle 2WD  1984                  2.5   \n",
       "1        AM General     FJ8c Post Office  1984                  4.2   \n",
       "2        AM General  Post Office DJ5 2WD  1985                  2.5   \n",
       "3        AM General  Post Office DJ8 2WD  1985                  4.2   \n",
       "4  ASC Incorporated                  GNX  1987                  3.8   \n",
       "\n",
       "   Cylinders     Transmission        Drivetrain                Vehicle Class  \\\n",
       "0        4.0  Automatic 3-spd     2-Wheel Drive  Special Purpose Vehicle 2WD   \n",
       "1        6.0  Automatic 3-spd     2-Wheel Drive  Special Purpose Vehicle 2WD   \n",
       "2        4.0  Automatic 3-spd  Rear-Wheel Drive  Special Purpose Vehicle 2WD   \n",
       "3        6.0  Automatic 3-spd  Rear-Wheel Drive  Special Purpose Vehicle 2WD   \n",
       "4        6.0  Automatic 4-spd  Rear-Wheel Drive                 Midsize Cars   \n",
       "\n",
       "  Fuel Type  Fuel Barrels/Year  City MPG  Highway MPG  Combined MPG  \\\n",
       "0   Regular          19.388824        18           17            17   \n",
       "1   Regular          25.354615        13           13            13   \n",
       "2   Regular          20.600625        16           17            16   \n",
       "3   Regular          25.354615        13           13            13   \n",
       "4   Premium          20.600625        14           21            16   \n",
       "\n",
       "   CO2 Emission Grams/Mile  Fuel Cost/Year  \n",
       "0               522.764706            1950  \n",
       "1               683.615385            2550  \n",
       "2               555.437500            2100  \n",
       "3               683.615385            2550  \n",
       "4               555.437500            2550  "
      ]
     },
     "execution_count": 3,
     "metadata": {},
     "output_type": "execute_result"
    }
   ],
   "source": [
    "vehicles.head(5)"
   ]
  },
  {
   "cell_type": "markdown",
   "metadata": {},
   "source": [
    "Then plot the histograms for the following variables:\n",
    "\n",
    "1. Fuel Barrels/Year"
   ]
  },
  {
   "cell_type": "code",
   "execution_count": 6,
   "metadata": {},
   "outputs": [
    {
     "data": {
      "text/plain": [
       "(array([6.5000e+01, 1.6000e+01, 5.4000e+01, 3.2000e+02, 2.2040e+03,\n",
       "        4.5610e+03, 1.0248e+04, 6.7910e+03, 4.6130e+03, 4.3530e+03,\n",
       "        1.3610e+03, 7.3500e+02, 4.3900e+02, 1.3000e+02, 0.0000e+00,\n",
       "        3.6000e+01, 0.0000e+00, 2.1000e+01, 0.0000e+00, 5.0000e+00]),\n",
       " array([ 0.06      ,  2.41135714,  4.76271429,  7.11407143,  9.46542857,\n",
       "        11.81678571, 14.16814286, 16.5195    , 18.87085714, 21.22221429,\n",
       "        23.57357143, 25.92492857, 28.27628571, 30.62764286, 32.979     ,\n",
       "        35.33035714, 37.68171429, 40.03307143, 42.38442857, 44.73578571,\n",
       "        47.08714286]),\n",
       " <BarContainer object of 20 artists>)"
      ]
     },
     "execution_count": 6,
     "metadata": {},
     "output_type": "execute_result"
    },
    {
     "data": {
      "image/png": "[encoded data removed]",
      "text/plain": [
       "<Figure size 432x288 with 1 Axes>"
      ]
     },
     "metadata": {
      "needs_background": "light"
     },
     "output_type": "display_data"
    }
   ],
   "source": [
    "# your code here\n",
    "plt.hist(vehicles[\"Fuel Barrels/Year\"], bins=20)"
   ]
  },
  {
   "cell_type": "markdown",
   "metadata": {},
   "source": [
    "2. CO2 Emission Grams/Mile "
   ]
  },
  {
   "cell_type": "code",
   "execution_count": 7,
   "metadata": {},
   "outputs": [
    {
     "data": {
      "text/plain": [
       "(array([1.300e+01, 2.100e+01, 1.490e+02, 6.830e+02, 3.422e+03, 6.783e+03,\n",
       "        9.421e+03, 5.990e+03, 2.530e+03, 4.295e+03, 1.276e+03, 7.340e+02,\n",
       "        4.430e+02, 1.300e+02, 0.000e+00, 3.600e+01, 0.000e+00, 2.100e+01,\n",
       "        0.000e+00, 5.000e+00]),\n",
       " array([  37.        ,   98.62857143,  160.25714286,  221.88571429,\n",
       "         283.51428571,  345.14285714,  406.77142857,  468.4       ,\n",
       "         530.02857143,  591.65714286,  653.28571429,  714.91428571,\n",
       "         776.54285714,  838.17142857,  899.8       ,  961.42857143,\n",
       "        1023.05714286, 1084.68571429, 1146.31428571, 1207.94285714,\n",
       "        1269.57142857]),\n",
       " <BarContainer object of 20 artists>)"
      ]
     },
     "execution_count": 7,
     "metadata": {},
     "output_type": "execute_result"
    },
    {
     "data": {
      "image/png": "[encoded data removed]",
      "text/plain": [
       "<Figure size 432x288 with 1 Axes>"
      ]
     },
     "metadata": {
      "needs_background": "light"
     },
     "output_type": "display_data"
    }
   ],
   "source": [
    "# your code here\n",
    "plt.hist(vehicles[\"CO2 Emission Grams/Mile\"], bins=20)"
   ]
  },
  {
   "cell_type": "markdown",
   "metadata": {},
   "source": [
    "3. Combined MPG"
   ]
  },
  {
   "cell_type": "code",
   "execution_count": 8,
   "metadata": {},
   "outputs": [
    {
     "data": {
      "text/plain": [
       "(array([6.600e+01, 5.720e+02, 3.943e+03, 4.556e+03, 9.261e+03, 6.251e+03,\n",
       "        5.587e+03, 2.345e+03, 1.784e+03, 6.320e+02, 3.450e+02, 2.910e+02,\n",
       "        8.400e+01, 1.260e+02, 4.400e+01, 2.100e+01, 1.800e+01, 1.500e+01,\n",
       "        9.000e+00, 2.000e+00]),\n",
       " array([ 7.  ,  9.45, 11.9 , 14.35, 16.8 , 19.25, 21.7 , 24.15, 26.6 ,\n",
       "        29.05, 31.5 , 33.95, 36.4 , 38.85, 41.3 , 43.75, 46.2 , 48.65,\n",
       "        51.1 , 53.55, 56.  ]),\n",
       " <BarContainer object of 20 artists>)"
      ]
     },
     "execution_count": 8,
     "metadata": {},
     "output_type": "execute_result"
    },
    {
     "data": {
      "image/png": "[encoded data removed]",
      "text/plain": [
       "<Figure size 432x288 with 1 Axes>"
      ]
     },
     "metadata": {
      "needs_background": "light"
     },
     "output_type": "display_data"
    }
   ],
   "source": [
    "# your code here\n",
    "plt.hist(vehicles[\"Combined MPG\"], bins=20)"
   ]
  },
  {
   "cell_type": "markdown",
   "metadata": {},
   "source": [
    "Which one(s) of the variables are nearly normally distributed? How do you know?"
   ]
  },
  {
   "cell_type": "code",
   "execution_count": 10,
   "metadata": {},
   "outputs": [
    {
     "name": "stdout",
     "output_type": "stream",
     "text": [
      "The 'Fuel Barrels/Year'.\n"
     ]
    }
   ],
   "source": [
    "# your answer here\n",
    "print(\"\"\"The 'Fuel Barrels/Year'.\"\"\")"
   ]
  },
  {
   "cell_type": "markdown",
   "metadata": {},
   "source": [
    "## Exponential Distribution"
   ]
  },
  {
   "cell_type": "markdown",
   "metadata": {},
   "source": [
    "1. Using `numpy.random.exponential`, create a function that returns a list of numbers exponentially distributed with the mean of 10. \n",
    "\n",
    "1. Use the function to generate two number sequences with the size of 1 and 100.\n",
    "\n",
    "1. Plot the distributions as histograms with the nubmer of bins as 100.\n",
    "\n",
    "Your output should look like below:\n",
    "\n",
    "![exponential distribution](ed.png)"
   ]
  },
  {
   "cell_type": "code",
   "execution_count": 29,
   "metadata": {},
   "outputs": [],
   "source": [
    "# your code here\n",
    "def gen_exp(size, average=10):\n",
    "    return np.random.exponential(average, size)"
   ]
  },
  {
   "cell_type": "code",
   "execution_count": 21,
   "metadata": {},
   "outputs": [
    {
     "data": {
      "text/plain": [
       "(array([0., 0., 0., 0., 0., 0., 0., 0., 0., 0., 0., 0., 0., 0., 0., 0., 0.,\n",
       "        0., 0., 0., 0., 0., 0., 0., 0., 0., 0., 0., 0., 0., 0., 0., 0., 0.,\n",
       "        0., 0., 0., 0., 0., 0., 0., 0., 0., 0., 0., 0., 0., 0., 0., 0., 1.,\n",
       "        0., 0., 0., 0., 0., 0., 0., 0., 0., 0., 0., 0., 0., 0., 0., 0., 0.,\n",
       "        0., 0., 0., 0., 0., 0., 0., 0., 0., 0., 0., 0., 0., 0., 0., 0., 0.,\n",
       "        0., 0., 0., 0., 0., 0., 0., 0., 0., 0., 0., 0., 0., 0., 0.]),\n",
       " array([6.4991098, 6.5091098, 6.5191098, 6.5291098, 6.5391098, 6.5491098,\n",
       "        6.5591098, 6.5691098, 6.5791098, 6.5891098, 6.5991098, 6.6091098,\n",
       "        6.6191098, 6.6291098, 6.6391098, 6.6491098, 6.6591098, 6.6691098,\n",
       "        6.6791098, 6.6891098, 6.6991098, 6.7091098, 6.7191098, 6.7291098,\n",
       "        6.7391098, 6.7491098, 6.7591098, 6.7691098, 6.7791098, 6.7891098,\n",
       "        6.7991098, 6.8091098, 6.8191098, 6.8291098, 6.8391098, 6.8491098,\n",
       "        6.8591098, 6.8691098, 6.8791098, 6.8891098, 6.8991098, 6.9091098,\n",
       "        6.9191098, 6.9291098, 6.9391098, 6.9491098, 6.9591098, 6.9691098,\n",
       "        6.9791098, 6.9891098, 6.9991098, 7.0091098, 7.0191098, 7.0291098,\n",
       "        7.0391098, 7.0491098, 7.0591098, 7.0691098, 7.0791098, 7.0891098,\n",
       "        7.0991098, 7.1091098, 7.1191098, 7.1291098, 7.1391098, 7.1491098,\n",
       "        7.1591098, 7.1691098, 7.1791098, 7.1891098, 7.1991098, 7.2091098,\n",
       "        7.2191098, 7.2291098, 7.2391098, 7.2491098, 7.2591098, 7.2691098,\n",
       "        7.2791098, 7.2891098, 7.2991098, 7.3091098, 7.3191098, 7.3291098,\n",
       "        7.3391098, 7.3491098, 7.3591098, 7.3691098, 7.3791098, 7.3891098,\n",
       "        7.3991098, 7.4091098, 7.4191098, 7.4291098, 7.4391098, 7.4491098,\n",
       "        7.4591098, 7.4691098, 7.4791098, 7.4891098, 7.4991098]),\n",
       " <BarContainer object of 100 artists>)"
      ]
     },
     "execution_count": 21,
     "metadata": {},
     "output_type": "execute_result"
    },
    {
     "data": {
      "image/png": "[encoded data removed]",
      "text/plain": [
       "<Figure size 432x288 with 1 Axes>"
      ]
     },
     "metadata": {
      "needs_background": "light"
     },
     "output_type": "display_data"
    }
   ],
   "source": [
    "a = gen_exp(1)\n",
    "plt.hist(a,bins=100)"
   ]
  },
  {
   "cell_type": "code",
   "execution_count": 18,
   "metadata": {},
   "outputs": [
    {
     "data": {
      "text/plain": [
       "(array([5., 2., 2., 7., 3., 5., 3., 1., 3., 2., 1., 2., 3., 1., 2., 3., 2.,\n",
       "        1., 4., 4., 5., 1., 1., 3., 1., 3., 3., 0., 1., 0., 1., 0., 0., 0.,\n",
       "        0., 1., 1., 0., 2., 1., 0., 0., 1., 0., 0., 1., 0., 2., 0., 2., 2.,\n",
       "        0., 1., 1., 0., 0., 0., 0., 1., 0., 0., 0., 0., 0., 0., 1., 0., 1.,\n",
       "        0., 0., 0., 0., 0., 0., 0., 0., 0., 1., 0., 0., 0., 2., 0., 1., 0.,\n",
       "        0., 1., 0., 0., 0., 0., 0., 0., 0., 0., 0., 0., 0., 1., 1.]),\n",
       " array([9.51668626e-03, 4.23377725e-01, 8.37238764e-01, 1.25109980e+00,\n",
       "        1.66496084e+00, 2.07882188e+00, 2.49268292e+00, 2.90654396e+00,\n",
       "        3.32040500e+00, 3.73426604e+00, 4.14812707e+00, 4.56198811e+00,\n",
       "        4.97584915e+00, 5.38971019e+00, 5.80357123e+00, 6.21743227e+00,\n",
       "        6.63129331e+00, 7.04515435e+00, 7.45901538e+00, 7.87287642e+00,\n",
       "        8.28673746e+00, 8.70059850e+00, 9.11445954e+00, 9.52832058e+00,\n",
       "        9.94218162e+00, 1.03560427e+01, 1.07699037e+01, 1.11837647e+01,\n",
       "        1.15976258e+01, 1.20114868e+01, 1.24253478e+01, 1.28392089e+01,\n",
       "        1.32530699e+01, 1.36669310e+01, 1.40807920e+01, 1.44946530e+01,\n",
       "        1.49085141e+01, 1.53223751e+01, 1.57362362e+01, 1.61500972e+01,\n",
       "        1.65639582e+01, 1.69778193e+01, 1.73916803e+01, 1.78055414e+01,\n",
       "        1.82194024e+01, 1.86332634e+01, 1.90471245e+01, 1.94609855e+01,\n",
       "        1.98748465e+01, 2.02887076e+01, 2.07025686e+01, 2.11164297e+01,\n",
       "        2.15302907e+01, 2.19441517e+01, 2.23580128e+01, 2.27718738e+01,\n",
       "        2.31857349e+01, 2.35995959e+01, 2.40134569e+01, 2.44273180e+01,\n",
       "        2.48411790e+01, 2.52550401e+01, 2.56689011e+01, 2.60827621e+01,\n",
       "        2.64966232e+01, 2.69104842e+01, 2.73243452e+01, 2.77382063e+01,\n",
       "        2.81520673e+01, 2.85659284e+01, 2.89797894e+01, 2.93936504e+01,\n",
       "        2.98075115e+01, 3.02213725e+01, 3.06352336e+01, 3.10490946e+01,\n",
       "        3.14629556e+01, 3.18768167e+01, 3.22906777e+01, 3.27045388e+01,\n",
       "        3.31183998e+01, 3.35322608e+01, 3.39461219e+01, 3.43599829e+01,\n",
       "        3.47738439e+01, 3.51877050e+01, 3.56015660e+01, 3.60154271e+01,\n",
       "        3.64292881e+01, 3.68431491e+01, 3.72570102e+01, 3.76708712e+01,\n",
       "        3.80847323e+01, 3.84985933e+01, 3.89124543e+01, 3.93263154e+01,\n",
       "        3.97401764e+01, 4.01540374e+01, 4.05678985e+01, 4.09817595e+01,\n",
       "        4.13956206e+01]),\n",
       " <BarContainer object of 100 artists>)"
      ]
     },
     "execution_count": 18,
     "metadata": {},
     "output_type": "execute_result"
    },
    {
     "data": {
      "image/png": "[encoded data removed]",
      "text/plain": [
       "<Figure size 432x288 with 1 Axes>"
      ]
     },
     "metadata": {
      "needs_background": "light"
     },
     "output_type": "display_data"
    }
   ],
   "source": [
    "b = gen_exp(100)\n",
    "plt.hist(b,bins=100)"
   ]
  },
  {
   "cell_type": "markdown",
   "metadata": {},
   "source": [
    "How are the two distributions different?"
   ]
  },
  {
   "cell_type": "code",
   "execution_count": 22,
   "metadata": {},
   "outputs": [
    {
     "name": "stdout",
     "output_type": "stream",
     "text": [
      "\n",
      "The first one has only one observation and is therefore very concentrated, not allowing us to understand its tendency.\n",
      "The second one really shows the start of a belly in small numbers and the leg in higher numbers.\n"
     ]
    }
   ],
   "source": [
    "# your answer here\n",
    "print(\"\"\"\n",
    "The first one has only one observation and is therefore very concentrated, not allowing us to understand its tendency.\n",
    "The second one really shows the start of a belly in small numbers and the leg in higher numbers.\"\"\")"
   ]
  },
  {
   "cell_type": "markdown",
   "metadata": {},
   "source": [
    "## Exponential Distribution of Real Data\n",
    "\n",
    "Suppose that the amount of time one spends in a bank is exponentially distributed with mean as 10 minutes (i.e. λ = 1/10). What is the probability that a customer will spend less than fifteen minutes in the bank? \n",
    "\n",
    "Write a code in python to solve this problem"
   ]
  },
  {
   "cell_type": "code",
   "execution_count": null,
   "metadata": {},
   "outputs": [],
   "source": [
    "# your answer here\n",
    "# Hint: This is same as saying P(x<15)\n",
    "for i in range (1,1000):\n",
    "    values = \n"
   ]
  },
  {
   "cell_type": "code",
   "execution_count": 37,
   "metadata": {},
   "outputs": [
    {
     "data": {
      "text/plain": [
       "1.0"
      ]
     },
     "execution_count": 37,
     "metadata": {},
     "output_type": "execute_result"
    }
   ],
   "source": [
    "from scipy.stats import expon\n",
    "expon.cdf(15,loc=10, scale=1/10)"
   ]
  },
  {
   "cell_type": "markdown",
   "metadata": {},
   "source": [
    "What is the probability that the customer will spend more than 15 minutes"
   ]
  },
  {
   "cell_type": "code",
   "execution_count": null,
   "metadata": {},
   "outputs": [],
   "source": [
    "# your answer here"
   ]
  },
  {
   "cell_type": "code",
   "execution_count": 38,
   "metadata": {},
   "outputs": [
    {
     "name": "stdout",
     "output_type": "stream",
     "text": [
      "0.0\n"
     ]
    }
   ],
   "source": [
    "# We just need to do: 1-P(x>15), which give us:\n",
    "q = 1 - expon.cdf(15,loc=10, scale=1/10)\n",
    "print(q)"
   ]
  }
 ],
 "metadata": {
  "kernelspec": {
   "display_name": "Python 3",
   "language": "python",
   "name": "python3"
  },
  "language_info": {
   "codemirror_mode": {
    "name": "ipython",
    "version": 3
   },
   "file_extension": ".py",
   "mimetype": "text/x-python",
   "name": "python",
   "nbconvert_exporter": "python",
   "pygments_lexer": "ipython3",
   "version": "3.9.1"
  }
 },
 "nbformat": 4,
 "nbformat_minor": 2
}

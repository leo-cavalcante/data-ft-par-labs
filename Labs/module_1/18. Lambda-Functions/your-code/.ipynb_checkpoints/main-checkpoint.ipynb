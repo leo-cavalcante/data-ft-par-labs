{
 "cells": [
  {
   "cell_type": "markdown",
   "metadata": {},
   "source": [
    "# Before your start:\n",
    "- Read the README.md file\n",
    "- Comment as much as you can and use the resources in the README.md file\n",
    "- Happy learning!"
   ]
  },
  {
   "cell_type": "markdown",
   "metadata": {},
   "source": [
    "# Challenge - Passing a Lambda Expression to a Function\n",
    "\n",
    "In the next excercise you will create a function that returns a lambda expression. Create a function called `modify_list`. The function takes two arguments, a list and a lambda expression. The function iterates through the list and applies the lambda expression to every element in the list."
   ]
  },
  {
   "cell_type": "code",
   "execution_count": 1,
   "metadata": {},
   "outputs": [],
   "source": [
    "def modify_list(lst, lmbda):\n",
    "    \"\"\"\n",
    "    Input: list and lambda expression\n",
    "    Output: the transformed list\n",
    "    \"\"\"\n",
    "    \n",
    "    # your code here\n",
    "    return lmdba(lst)"
   ]
  },
  {
   "cell_type": "markdown",
   "metadata": {},
   "source": [
    "#### Now we will define a lambda expression that will transform the elements of the list. \n",
    "\n",
    "In the cell below, create a lambda expression that converts Celsius to Kelvin. Recall that 0°C + 273.15 = 273.15K"
   ]
  },
  {
   "cell_type": "code",
   "execution_count": 2,
   "metadata": {},
   "outputs": [],
   "source": [
    "# your code here\n",
    "celsius_to_kelvin = lambda c: c + 273.15"
   ]
  },
  {
   "cell_type": "markdown",
   "metadata": {},
   "source": [
    "Finally, convert the list of temperatures below from Celsius to Kelvin."
   ]
  },
  {
   "cell_type": "code",
   "execution_count": 3,
   "metadata": {},
   "outputs": [],
   "source": [
    "# your code here\n",
    "\n",
    "temps = [12, 23, 38, -55, 24]\n",
    "\n",
    "kelvin = [celsius_to_kelvin(temp) for temp in temps]"
   ]
  },
  {
   "cell_type": "code",
   "execution_count": 4,
   "metadata": {},
   "outputs": [
    {
     "data": {
      "text/plain": [
       "[285.15, 296.15, 311.15, 218.14999999999998, 297.15]"
      ]
     },
     "execution_count": 4,
     "metadata": {},
     "output_type": "execute_result"
    }
   ],
   "source": [
    "kelvin"
   ]
  },
  {
   "cell_type": "markdown",
   "metadata": {},
   "source": [
    "#### In this part, we will define a function that returns a lambda expression\n",
    "\n",
    "In the cell below, write a lambda expression that takes two numbers and returns 1 if one is divisible by the other and zero otherwise. Call the lambda expression `mod`."
   ]
  },
  {
   "cell_type": "code",
   "execution_count": 5,
   "metadata": {},
   "outputs": [],
   "source": [
    "# your code here\n",
    "mod = lambda a,b: 1 if a%b==0 else 0"
   ]
  },
  {
   "cell_type": "markdown",
   "metadata": {},
   "source": [
    "#### Now create a function that returns mod. The function only takes one argument - the first number in the `mod` lambda function. \n",
    "\n",
    "Note: the lambda function above took two arguments, the lambda function in the return statement only takes one argument but also uses the argument passed to the function."
   ]
  },
  {
   "cell_type": "code",
   "execution_count": 6,
   "metadata": {},
   "outputs": [],
   "source": [
    "def divisor(b):\n",
    "    \"\"\"\n",
    "    Input: a number\n",
    "    Output: a function that returns 1 if the number is \n",
    "    divisible by another number (to be passed later) and zero otherwise.\n",
    "    \"\"\"\n",
    "    # your code here\n",
    "    \n",
    "    return lambda a: 1 if a%b==0 else 0"
   ]
  },
  {
   "cell_type": "markdown",
   "metadata": {},
   "source": [
    "Finally, pass the number 5 to `divisor`. Now the function will check whether a number is divisble by 5. Assign this function to `divisible5`"
   ]
  },
  {
   "cell_type": "code",
   "execution_count": 7,
   "metadata": {},
   "outputs": [],
   "source": [
    "# your code here\n",
    "divisible5=divisor(5)"
   ]
  },
  {
   "cell_type": "markdown",
   "metadata": {},
   "source": [
    "Test your function with the following test cases:"
   ]
  },
  {
   "cell_type": "code",
   "execution_count": 8,
   "metadata": {},
   "outputs": [
    {
     "data": {
      "text/plain": [
       "1"
      ]
     },
     "execution_count": 8,
     "metadata": {},
     "output_type": "execute_result"
    }
   ],
   "source": [
    "divisible5(10)"
   ]
  },
  {
   "cell_type": "code",
   "execution_count": 9,
   "metadata": {},
   "outputs": [
    {
     "data": {
      "text/plain": [
       "0"
      ]
     },
     "execution_count": 9,
     "metadata": {},
     "output_type": "execute_result"
    }
   ],
   "source": [
    "divisible5(8)"
   ]
  },
  {
   "cell_type": "markdown",
   "metadata": {},
   "source": [
    "# Bonus Challenge - Using Lambda Expressions in List Comprehensions\n",
    "\n",
    "In the following challenge, we will combine two lists using a lambda expression in a list comprehension. \n",
    "\n",
    "To do this, we will need to introduce the `zip` function. The `zip` function returns an iterator of tuples."
   ]
  },
  {
   "cell_type": "code",
   "execution_count": 10,
   "metadata": {},
   "outputs": [
    {
     "data": {
      "text/plain": [
       "[(1,), (2,), (3,), (4,), (5,)]"
      ]
     },
     "execution_count": 10,
     "metadata": {},
     "output_type": "execute_result"
    }
   ],
   "source": [
    "# Here is an example of passing one list to the zip function. \n",
    "# Since the zip function returns an iterator, we need to evaluate the iterator by using a list comprehension.\n",
    "\n",
    "l = [1,2,3,4,5]\n",
    "[x for x in zip(l)]"
   ]
  },
  {
   "cell_type": "markdown",
   "metadata": {},
   "source": [
    "Using the `zip` function, let's iterate through two lists and add the elements by position."
   ]
  },
  {
   "cell_type": "code",
   "execution_count": 11,
   "metadata": {},
   "outputs": [
    {
     "data": {
      "text/plain": [
       "[('Green', 'eggs'),\n",
       " ('cheese', 'cheese'),\n",
       " ('English', 'cucumber'),\n",
       " ('tomato', 'tomato')]"
      ]
     },
     "execution_count": 11,
     "metadata": {},
     "output_type": "execute_result"
    }
   ],
   "source": [
    "list1 = ['Green', 'cheese', 'English', 'tomato']\n",
    "list2 = ['eggs', 'cheese', 'cucumber', 'tomato']\n",
    "\n",
    "# your code here\n",
    "[item for item in zip(list1, list2)]"
   ]
  },
  {
   "cell_type": "markdown",
   "metadata": {},
   "source": [
    "# Bonus Challenge - Using Lambda Expressions as Arguments\n",
    "\n",
    "#### In this challenge, we will zip together two lists and sort by the resulting tuple.\n",
    "\n",
    "In the cell below, take the two lists provided, zip them together and sort by the first letter of the second element of each tuple. Do this using a lambda function."
   ]
  },
  {
   "cell_type": "code",
   "execution_count": 35,
   "metadata": {},
   "outputs": [
    {
     "data": {
      "text/plain": [
       "[('Political Science', 'Essay'),\n",
       " ('Computer Science', 'Homework'),\n",
       " ('Engineering', 'Lab'),\n",
       " ('Mathematics', 'Module')]"
      ]
     },
     "execution_count": 35,
     "metadata": {},
     "output_type": "execute_result"
    }
   ],
   "source": [
    "list1 = ['Engineering', 'Computer Science', 'Political Science', 'Mathematics']\n",
    "list2 = ['Lab', 'Homework', 'Essay', 'Module']\n",
    "\n",
    "# your code here\n",
    "a=[item for item in zip(list1, list2)]\n",
    "a.sort(key=lambda i: i[1])\n",
    "a"
   ]
  },
  {
   "cell_type": "markdown",
   "metadata": {},
   "source": [
    "# Bonus Challenge - Sort a Dictionary by Values\n",
    "\n",
    "Given the dictionary below, sort it by values rather than by keys. Use a lambda function to specify the values as a sorting key."
   ]
  },
  {
   "cell_type": "code",
   "execution_count": 39,
   "metadata": {},
   "outputs": [
    {
     "data": {
      "text/plain": [
       "[('Toyota', 1995), ('Honda', 1997), ('Audi', 2001), ('BMW', 2005)]"
      ]
     },
     "execution_count": 39,
     "metadata": {},
     "output_type": "execute_result"
    }
   ],
   "source": [
    "d = {'Honda': 1997, 'Toyota': 1995, 'Audi': 2001, 'BMW': 2005}\n",
    "\n",
    "# your code here\n",
    "e = sorted(d.items(), key=lambda i: i[1])\n",
    "e"
   ]
  },
  {
   "cell_type": "markdown",
   "metadata": {},
   "source": [
    " "
   ]
  },
  {
   "cell_type": "markdown",
   "metadata": {},
   "source": [
    " "
   ]
  },
  {
   "cell_type": "markdown",
   "metadata": {},
   "source": [
    "# Exercise during Course:"
   ]
  },
  {
   "cell_type": "markdown",
   "metadata": {},
   "source": [
    "### Select an action movie for me to watch tonight.\n",
    "I don't like fantasy movies, so action fantasy doesnt count.\n",
    "I can accept Action, Action/Thrillers or Action/Adventure movies."
   ]
  },
  {
   "cell_type": "code",
   "execution_count": 14,
   "metadata": {},
   "outputs": [],
   "source": [
    "import pandas as pd\n",
    "df=pd.read_csv('https://ironhack.school/asset-v1:IRONHACK+DAFT+201910_PAR+type@asset+block@IMDB-Movie-Data.csv')"
   ]
  },
  {
   "cell_type": "code",
   "execution_count": 15,
   "metadata": {},
   "outputs": [
    {
     "data": {
      "text/html": [
       "<div>\n",
       "<style scoped>\n",
       "    .dataframe tbody tr th:only-of-type {\n",
       "        vertical-align: middle;\n",
       "    }\n",
       "\n",
       "    .dataframe tbody tr th {\n",
       "        vertical-align: top;\n",
       "    }\n",
       "\n",
       "    .dataframe thead th {\n",
       "        text-align: right;\n",
       "    }\n",
       "</style>\n",
       "<table border=\"1\" class=\"dataframe\">\n",
       "  <thead>\n",
       "    <tr style=\"text-align: right;\">\n",
       "      <th></th>\n",
       "      <th>Rank</th>\n",
       "      <th>Title</th>\n",
       "      <th>Genre</th>\n",
       "      <th>Description</th>\n",
       "      <th>Director</th>\n",
       "      <th>Actors</th>\n",
       "      <th>Year</th>\n",
       "      <th>Runtime (Minutes)</th>\n",
       "      <th>Rating</th>\n",
       "      <th>Votes</th>\n",
       "      <th>Revenue (Millions)</th>\n",
       "      <th>Metascore</th>\n",
       "    </tr>\n",
       "  </thead>\n",
       "  <tbody>\n",
       "    <tr>\n",
       "      <th>0</th>\n",
       "      <td>1</td>\n",
       "      <td>Guardians of the Galaxy</td>\n",
       "      <td>Action,Adventure,Sci-Fi</td>\n",
       "      <td>A group of intergalactic criminals are forced ...</td>\n",
       "      <td>James Gunn</td>\n",
       "      <td>Chris Pratt, Vin Diesel, Bradley Cooper, Zoe S...</td>\n",
       "      <td>2014</td>\n",
       "      <td>121</td>\n",
       "      <td>8.1</td>\n",
       "      <td>757074</td>\n",
       "      <td>333.13</td>\n",
       "      <td>76.0</td>\n",
       "    </tr>\n",
       "    <tr>\n",
       "      <th>1</th>\n",
       "      <td>2</td>\n",
       "      <td>Prometheus</td>\n",
       "      <td>Adventure,Mystery,Sci-Fi</td>\n",
       "      <td>Following clues to the origin of mankind, a te...</td>\n",
       "      <td>Ridley Scott</td>\n",
       "      <td>Noomi Rapace, Logan Marshall-Green, Michael Fa...</td>\n",
       "      <td>2012</td>\n",
       "      <td>124</td>\n",
       "      <td>7.0</td>\n",
       "      <td>485820</td>\n",
       "      <td>126.46</td>\n",
       "      <td>65.0</td>\n",
       "    </tr>\n",
       "    <tr>\n",
       "      <th>2</th>\n",
       "      <td>3</td>\n",
       "      <td>Split</td>\n",
       "      <td>Horror,Thriller</td>\n",
       "      <td>Three girls are kidnapped by a man with a diag...</td>\n",
       "      <td>M. Night Shyamalan</td>\n",
       "      <td>James McAvoy, Anya Taylor-Joy, Haley Lu Richar...</td>\n",
       "      <td>2016</td>\n",
       "      <td>117</td>\n",
       "      <td>7.3</td>\n",
       "      <td>157606</td>\n",
       "      <td>138.12</td>\n",
       "      <td>62.0</td>\n",
       "    </tr>\n",
       "    <tr>\n",
       "      <th>3</th>\n",
       "      <td>4</td>\n",
       "      <td>Sing</td>\n",
       "      <td>Animation,Comedy,Family</td>\n",
       "      <td>In a city of humanoid animals, a hustling thea...</td>\n",
       "      <td>Christophe Lourdelet</td>\n",
       "      <td>Matthew McConaughey,Reese Witherspoon, Seth Ma...</td>\n",
       "      <td>2016</td>\n",
       "      <td>108</td>\n",
       "      <td>7.2</td>\n",
       "      <td>60545</td>\n",
       "      <td>270.32</td>\n",
       "      <td>59.0</td>\n",
       "    </tr>\n",
       "    <tr>\n",
       "      <th>4</th>\n",
       "      <td>5</td>\n",
       "      <td>Suicide Squad</td>\n",
       "      <td>Action,Adventure,Fantasy</td>\n",
       "      <td>A secret government agency recruits some of th...</td>\n",
       "      <td>David Ayer</td>\n",
       "      <td>Will Smith, Jared Leto, Margot Robbie, Viola D...</td>\n",
       "      <td>2016</td>\n",
       "      <td>123</td>\n",
       "      <td>6.2</td>\n",
       "      <td>393727</td>\n",
       "      <td>325.02</td>\n",
       "      <td>40.0</td>\n",
       "    </tr>\n",
       "  </tbody>\n",
       "</table>\n",
       "</div>"
      ],
      "text/plain": [
       "   Rank                    Title                     Genre  \\\n",
       "0     1  Guardians of the Galaxy   Action,Adventure,Sci-Fi   \n",
       "1     2               Prometheus  Adventure,Mystery,Sci-Fi   \n",
       "2     3                    Split           Horror,Thriller   \n",
       "3     4                     Sing   Animation,Comedy,Family   \n",
       "4     5            Suicide Squad  Action,Adventure,Fantasy   \n",
       "\n",
       "                                         Description              Director  \\\n",
       "0  A group of intergalactic criminals are forced ...            James Gunn   \n",
       "1  Following clues to the origin of mankind, a te...          Ridley Scott   \n",
       "2  Three girls are kidnapped by a man with a diag...    M. Night Shyamalan   \n",
       "3  In a city of humanoid animals, a hustling thea...  Christophe Lourdelet   \n",
       "4  A secret government agency recruits some of th...            David Ayer   \n",
       "\n",
       "                                              Actors  Year  Runtime (Minutes)  \\\n",
       "0  Chris Pratt, Vin Diesel, Bradley Cooper, Zoe S...  2014                121   \n",
       "1  Noomi Rapace, Logan Marshall-Green, Michael Fa...  2012                124   \n",
       "2  James McAvoy, Anya Taylor-Joy, Haley Lu Richar...  2016                117   \n",
       "3  Matthew McConaughey,Reese Witherspoon, Seth Ma...  2016                108   \n",
       "4  Will Smith, Jared Leto, Margot Robbie, Viola D...  2016                123   \n",
       "\n",
       "   Rating   Votes  Revenue (Millions)  Metascore  \n",
       "0     8.1  757074              333.13       76.0  \n",
       "1     7.0  485820              126.46       65.0  \n",
       "2     7.3  157606              138.12       62.0  \n",
       "3     7.2   60545              270.32       59.0  \n",
       "4     6.2  393727              325.02       40.0  "
      ]
     },
     "execution_count": 15,
     "metadata": {},
     "output_type": "execute_result"
    }
   ],
   "source": [
    "df.head()"
   ]
  },
  {
   "cell_type": "code",
   "execution_count": 18,
   "metadata": {},
   "outputs": [
    {
     "data": {
      "text/html": [
       "<div>\n",
       "<style scoped>\n",
       "    .dataframe tbody tr th:only-of-type {\n",
       "        vertical-align: middle;\n",
       "    }\n",
       "\n",
       "    .dataframe tbody tr th {\n",
       "        vertical-align: top;\n",
       "    }\n",
       "\n",
       "    .dataframe thead th {\n",
       "        text-align: right;\n",
       "    }\n",
       "</style>\n",
       "<table border=\"1\" class=\"dataframe\">\n",
       "  <thead>\n",
       "    <tr style=\"text-align: right;\">\n",
       "      <th></th>\n",
       "      <th>Rank</th>\n",
       "      <th>Title</th>\n",
       "      <th>Genre</th>\n",
       "      <th>Description</th>\n",
       "      <th>Director</th>\n",
       "      <th>Actors</th>\n",
       "      <th>Year</th>\n",
       "      <th>Runtime (Minutes)</th>\n",
       "      <th>Rating</th>\n",
       "      <th>Votes</th>\n",
       "      <th>Revenue (Millions)</th>\n",
       "      <th>Metascore</th>\n",
       "    </tr>\n",
       "  </thead>\n",
       "  <tbody>\n",
       "    <tr>\n",
       "      <th>17</th>\n",
       "      <td>18</td>\n",
       "      <td>Jason Bourne</td>\n",
       "      <td>Action,Thriller</td>\n",
       "      <td>The CIA's most dangerous former operative is d...</td>\n",
       "      <td>Paul Greengrass</td>\n",
       "      <td>Matt Damon, Tommy Lee Jones, Alicia Vikander,V...</td>\n",
       "      <td>2016</td>\n",
       "      <td>123</td>\n",
       "      <td>6.7</td>\n",
       "      <td>150823</td>\n",
       "      <td>162.16</td>\n",
       "      <td>58.0</td>\n",
       "    </tr>\n",
       "    <tr>\n",
       "      <th>123</th>\n",
       "      <td>124</td>\n",
       "      <td>Boyka: Undisputed IV</td>\n",
       "      <td>Action</td>\n",
       "      <td>In the fourth installment of the fighting fran...</td>\n",
       "      <td>Todor Chapkanov</td>\n",
       "      <td>Scott Adkins, Teodora Duhovnikova, Alon Aboutb...</td>\n",
       "      <td>2016</td>\n",
       "      <td>86</td>\n",
       "      <td>7.4</td>\n",
       "      <td>10428</td>\n",
       "      <td>NaN</td>\n",
       "      <td>NaN</td>\n",
       "    </tr>\n",
       "    <tr>\n",
       "      <th>124</th>\n",
       "      <td>125</td>\n",
       "      <td>The Dark Knight Rises</td>\n",
       "      <td>Action,Thriller</td>\n",
       "      <td>Eight years after the Joker's reign of anarchy...</td>\n",
       "      <td>Christopher Nolan</td>\n",
       "      <td>Christian Bale, Tom Hardy, Anne Hathaway,Gary ...</td>\n",
       "      <td>2012</td>\n",
       "      <td>164</td>\n",
       "      <td>8.5</td>\n",
       "      <td>1222645</td>\n",
       "      <td>448.13</td>\n",
       "      <td>78.0</td>\n",
       "    </tr>\n",
       "    <tr>\n",
       "      <th>284</th>\n",
       "      <td>285</td>\n",
       "      <td>Hercules</td>\n",
       "      <td>Action,Adventure</td>\n",
       "      <td>Having endured his legendary twelve labors, He...</td>\n",
       "      <td>Brett Ratner</td>\n",
       "      <td>Dwayne Johnson, John Hurt, Ian McShane, Joseph...</td>\n",
       "      <td>2014</td>\n",
       "      <td>98</td>\n",
       "      <td>6.0</td>\n",
       "      <td>122838</td>\n",
       "      <td>72.66</td>\n",
       "      <td>47.0</td>\n",
       "    </tr>\n",
       "    <tr>\n",
       "      <th>344</th>\n",
       "      <td>345</td>\n",
       "      <td>Spider-Man 3</td>\n",
       "      <td>Action,Adventure</td>\n",
       "      <td>A strange black entity from another world bond...</td>\n",
       "      <td>Sam Raimi</td>\n",
       "      <td>Tobey Maguire, Kirsten Dunst, Topher Grace, Th...</td>\n",
       "      <td>2007</td>\n",
       "      <td>139</td>\n",
       "      <td>6.2</td>\n",
       "      <td>406219</td>\n",
       "      <td>336.53</td>\n",
       "      <td>59.0</td>\n",
       "    </tr>\n",
       "    <tr>\n",
       "      <th>368</th>\n",
       "      <td>369</td>\n",
       "      <td>The Amazing Spider-Man</td>\n",
       "      <td>Action,Adventure</td>\n",
       "      <td>After Peter Parker is bitten by a genetically ...</td>\n",
       "      <td>Marc Webb</td>\n",
       "      <td>Andrew Garfield, Emma Stone, Rhys Ifans, Irrfa...</td>\n",
       "      <td>2012</td>\n",
       "      <td>136</td>\n",
       "      <td>7.0</td>\n",
       "      <td>474320</td>\n",
       "      <td>262.03</td>\n",
       "      <td>66.0</td>\n",
       "    </tr>\n",
       "    <tr>\n",
       "      <th>410</th>\n",
       "      <td>411</td>\n",
       "      <td>Taken</td>\n",
       "      <td>Action,Thriller</td>\n",
       "      <td>A retired CIA agent travels across Europe and ...</td>\n",
       "      <td>Pierre Morel</td>\n",
       "      <td>Liam Neeson, Maggie Grace, Famke Janssen, Lela...</td>\n",
       "      <td>2008</td>\n",
       "      <td>93</td>\n",
       "      <td>7.8</td>\n",
       "      <td>502961</td>\n",
       "      <td>145.00</td>\n",
       "      <td>50.0</td>\n",
       "    </tr>\n",
       "    <tr>\n",
       "      <th>453</th>\n",
       "      <td>454</td>\n",
       "      <td>Olympus Has Fallen</td>\n",
       "      <td>Action,Thriller</td>\n",
       "      <td>Disgraced Secret Service agent (and former pre...</td>\n",
       "      <td>Antoine Fuqua</td>\n",
       "      <td>Gerard Butler, Aaron Eckhart, Morgan Freeman,A...</td>\n",
       "      <td>2013</td>\n",
       "      <td>119</td>\n",
       "      <td>6.5</td>\n",
       "      <td>214994</td>\n",
       "      <td>98.90</td>\n",
       "      <td>41.0</td>\n",
       "    </tr>\n",
       "    <tr>\n",
       "      <th>580</th>\n",
       "      <td>581</td>\n",
       "      <td>Kickboxer: Vengeance</td>\n",
       "      <td>Action</td>\n",
       "      <td>A kick boxer is out to avenge his brother.</td>\n",
       "      <td>John Stockwell</td>\n",
       "      <td>Dave Bautista, Alain Moussi, Gina Carano, Jean...</td>\n",
       "      <td>2016</td>\n",
       "      <td>90</td>\n",
       "      <td>4.9</td>\n",
       "      <td>6809</td>\n",
       "      <td>131.56</td>\n",
       "      <td>37.0</td>\n",
       "    </tr>\n",
       "    <tr>\n",
       "      <th>624</th>\n",
       "      <td>625</td>\n",
       "      <td>Taken 3</td>\n",
       "      <td>Action,Thriller</td>\n",
       "      <td>Ex-government operative Bryan Mills is accused...</td>\n",
       "      <td>Olivier Megaton</td>\n",
       "      <td>Liam Neeson, Forest Whitaker, Maggie Grace,Fam...</td>\n",
       "      <td>2014</td>\n",
       "      <td>109</td>\n",
       "      <td>6.0</td>\n",
       "      <td>144715</td>\n",
       "      <td>89.25</td>\n",
       "      <td>26.0</td>\n",
       "    </tr>\n",
       "    <tr>\n",
       "      <th>777</th>\n",
       "      <td>778</td>\n",
       "      <td>Final Girl</td>\n",
       "      <td>Action,Thriller</td>\n",
       "      <td>A man teaches a young woman how to become a co...</td>\n",
       "      <td>Tyler Shields</td>\n",
       "      <td>Abigail Breslin, Wes Bentley, Logan Huffman,Al...</td>\n",
       "      <td>2015</td>\n",
       "      <td>90</td>\n",
       "      <td>4.7</td>\n",
       "      <td>9026</td>\n",
       "      <td>NaN</td>\n",
       "      <td>56.0</td>\n",
       "    </tr>\n",
       "    <tr>\n",
       "      <th>844</th>\n",
       "      <td>845</td>\n",
       "      <td>Unstoppable</td>\n",
       "      <td>Action,Thriller</td>\n",
       "      <td>With an unmanned, half-mile-long freight train...</td>\n",
       "      <td>Tony Scott</td>\n",
       "      <td>Denzel Washington, Chris Pine, Rosario Dawson,...</td>\n",
       "      <td>2010</td>\n",
       "      <td>98</td>\n",
       "      <td>6.8</td>\n",
       "      <td>157499</td>\n",
       "      <td>81.56</td>\n",
       "      <td>69.0</td>\n",
       "    </tr>\n",
       "    <tr>\n",
       "      <th>872</th>\n",
       "      <td>873</td>\n",
       "      <td>Red Dawn</td>\n",
       "      <td>Action,Thriller</td>\n",
       "      <td>A group of teenagers look to save their town f...</td>\n",
       "      <td>Dan Bradley</td>\n",
       "      <td>Chris Hemsworth, Isabel Lucas, Josh Hutcherson...</td>\n",
       "      <td>2012</td>\n",
       "      <td>93</td>\n",
       "      <td>5.4</td>\n",
       "      <td>64584</td>\n",
       "      <td>44.80</td>\n",
       "      <td>31.0</td>\n",
       "    </tr>\n",
       "    <tr>\n",
       "      <th>923</th>\n",
       "      <td>924</td>\n",
       "      <td>No Escape</td>\n",
       "      <td>Action,Thriller</td>\n",
       "      <td>In their new overseas home, an American family...</td>\n",
       "      <td>John Erick Dowdle</td>\n",
       "      <td>Lake Bell, Pierce Brosnan, Owen Wilson,Chatcha...</td>\n",
       "      <td>2015</td>\n",
       "      <td>103</td>\n",
       "      <td>6.8</td>\n",
       "      <td>57921</td>\n",
       "      <td>27.29</td>\n",
       "      <td>38.0</td>\n",
       "    </tr>\n",
       "  </tbody>\n",
       "</table>\n",
       "</div>"
      ],
      "text/plain": [
       "     Rank                   Title             Genre  \\\n",
       "17     18            Jason Bourne   Action,Thriller   \n",
       "123   124    Boyka: Undisputed IV            Action   \n",
       "124   125   The Dark Knight Rises   Action,Thriller   \n",
       "284   285                Hercules  Action,Adventure   \n",
       "344   345            Spider-Man 3  Action,Adventure   \n",
       "368   369  The Amazing Spider-Man  Action,Adventure   \n",
       "410   411                   Taken   Action,Thriller   \n",
       "453   454      Olympus Has Fallen   Action,Thriller   \n",
       "580   581    Kickboxer: Vengeance            Action   \n",
       "624   625                 Taken 3   Action,Thriller   \n",
       "777   778              Final Girl   Action,Thriller   \n",
       "844   845             Unstoppable   Action,Thriller   \n",
       "872   873                Red Dawn   Action,Thriller   \n",
       "923   924               No Escape   Action,Thriller   \n",
       "\n",
       "                                           Description           Director  \\\n",
       "17   The CIA's most dangerous former operative is d...    Paul Greengrass   \n",
       "123  In the fourth installment of the fighting fran...    Todor Chapkanov   \n",
       "124  Eight years after the Joker's reign of anarchy...  Christopher Nolan   \n",
       "284  Having endured his legendary twelve labors, He...       Brett Ratner   \n",
       "344  A strange black entity from another world bond...          Sam Raimi   \n",
       "368  After Peter Parker is bitten by a genetically ...          Marc Webb   \n",
       "410  A retired CIA agent travels across Europe and ...       Pierre Morel   \n",
       "453  Disgraced Secret Service agent (and former pre...      Antoine Fuqua   \n",
       "580         A kick boxer is out to avenge his brother.     John Stockwell   \n",
       "624  Ex-government operative Bryan Mills is accused...    Olivier Megaton   \n",
       "777  A man teaches a young woman how to become a co...      Tyler Shields   \n",
       "844  With an unmanned, half-mile-long freight train...         Tony Scott   \n",
       "872  A group of teenagers look to save their town f...        Dan Bradley   \n",
       "923  In their new overseas home, an American family...  John Erick Dowdle   \n",
       "\n",
       "                                                Actors  Year  \\\n",
       "17   Matt Damon, Tommy Lee Jones, Alicia Vikander,V...  2016   \n",
       "123  Scott Adkins, Teodora Duhovnikova, Alon Aboutb...  2016   \n",
       "124  Christian Bale, Tom Hardy, Anne Hathaway,Gary ...  2012   \n",
       "284  Dwayne Johnson, John Hurt, Ian McShane, Joseph...  2014   \n",
       "344  Tobey Maguire, Kirsten Dunst, Topher Grace, Th...  2007   \n",
       "368  Andrew Garfield, Emma Stone, Rhys Ifans, Irrfa...  2012   \n",
       "410  Liam Neeson, Maggie Grace, Famke Janssen, Lela...  2008   \n",
       "453  Gerard Butler, Aaron Eckhart, Morgan Freeman,A...  2013   \n",
       "580  Dave Bautista, Alain Moussi, Gina Carano, Jean...  2016   \n",
       "624  Liam Neeson, Forest Whitaker, Maggie Grace,Fam...  2014   \n",
       "777  Abigail Breslin, Wes Bentley, Logan Huffman,Al...  2015   \n",
       "844  Denzel Washington, Chris Pine, Rosario Dawson,...  2010   \n",
       "872  Chris Hemsworth, Isabel Lucas, Josh Hutcherson...  2012   \n",
       "923  Lake Bell, Pierce Brosnan, Owen Wilson,Chatcha...  2015   \n",
       "\n",
       "     Runtime (Minutes)  Rating    Votes  Revenue (Millions)  Metascore  \n",
       "17                 123     6.7   150823              162.16       58.0  \n",
       "123                 86     7.4    10428                 NaN        NaN  \n",
       "124                164     8.5  1222645              448.13       78.0  \n",
       "284                 98     6.0   122838               72.66       47.0  \n",
       "344                139     6.2   406219              336.53       59.0  \n",
       "368                136     7.0   474320              262.03       66.0  \n",
       "410                 93     7.8   502961              145.00       50.0  \n",
       "453                119     6.5   214994               98.90       41.0  \n",
       "580                 90     4.9     6809              131.56       37.0  \n",
       "624                109     6.0   144715               89.25       26.0  \n",
       "777                 90     4.7     9026                 NaN       56.0  \n",
       "844                 98     6.8   157499               81.56       69.0  \n",
       "872                 93     5.4    64584               44.80       31.0  \n",
       "923                103     6.8    57921               27.29       38.0  "
      ]
     },
     "execution_count": 18,
     "metadata": {},
     "output_type": "execute_result"
    }
   ],
   "source": [
    "df[df.Genre.str.split(',').map(set).apply(lambda x: \n",
    "                                          (len(x)<3) &\n",
    "                                          (\"Action\" in x) &\n",
    "                                          ((x-{'Action','Thriller',\"Adventure\"})==set())\n",
    "                                      )]"
   ]
  }
 ],
 "metadata": {
  "kernelspec": {
   "display_name": "Python 3",
   "language": "python",
   "name": "python3"
  },
  "language_info": {
   "codemirror_mode": {
    "name": "ipython",
    "version": 3
   },
   "file_extension": ".py",
   "mimetype": "text/x-python",
   "name": "python",
   "nbconvert_exporter": "python",
   "pygments_lexer": "ipython3",
   "version": "3.9.1"
  }
 },
 "nbformat": 4,
 "nbformat_minor": 2
}

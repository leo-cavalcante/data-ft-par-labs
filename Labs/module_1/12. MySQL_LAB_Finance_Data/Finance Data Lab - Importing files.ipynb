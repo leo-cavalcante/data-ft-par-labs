{
 "cells": [
  {
   "cell_type": "markdown",
   "id": "geological-design",
   "metadata": {},
   "source": [
    "# Importing files to MySQL"
   ]
  },
  {
   "cell_type": "markdown",
   "id": "specified-asthma",
   "metadata": {},
   "source": [
    "# Reading files"
   ]
  },
  {
   "cell_type": "code",
   "execution_count": 1,
   "id": "indian-adult",
   "metadata": {},
   "outputs": [],
   "source": [
    "import os\n",
    "import pandas as pd\n",
    "import numpy as np"
   ]
  },
  {
   "cell_type": "code",
   "execution_count": 3,
   "id": "younger-pontiac",
   "metadata": {},
   "outputs": [
    {
     "data": {
      "text/plain": [
       "'/Users/oleoaraujo/Documents/GitHub/data-ft-par-labs/Labs/module_1/12. MySQL_LAB_Finance_Data'"
      ]
     },
     "execution_count": 3,
     "metadata": {},
     "output_type": "execute_result"
    }
   ],
   "source": [
    "pwd"
   ]
  },
  {
   "cell_type": "code",
   "execution_count": 5,
   "id": "invisible-destruction",
   "metadata": {},
   "outputs": [],
   "source": [
    "os.chdir('/Users/oleoaraujo/Downloads/czech')"
   ]
  },
  {
   "cell_type": "code",
   "execution_count": 16,
   "id": "accredited-discretion",
   "metadata": {},
   "outputs": [
    {
     "data": {
      "text/plain": [
       "'/Users/oleoaraujo/Downloads/czech'"
      ]
     },
     "execution_count": 16,
     "metadata": {},
     "output_type": "execute_result"
    }
   ],
   "source": [
    "pwd"
   ]
  },
  {
   "cell_type": "markdown",
   "id": "median-helicopter",
   "metadata": {},
   "source": [
    "## Importing everything to MySQL"
   ]
  },
  {
   "cell_type": "code",
   "execution_count": 8,
   "id": "distant-services",
   "metadata": {},
   "outputs": [],
   "source": [
    "import pymysql\n",
    "from sqlalchemy import create_engine\n",
    "from getpass import getpass"
   ]
  },
  {
   "cell_type": "code",
   "execution_count": 9,
   "id": "alone-skiing",
   "metadata": {},
   "outputs": [
    {
     "name": "stdout",
     "output_type": "stream",
     "text": [
      "········\n"
     ]
    }
   ],
   "source": [
    "#credentials for MySQL\n",
    "username='root'\n",
    "server='localhost'\n",
    "database='czech'\n",
    "password=getpass()"
   ]
  },
  {
   "cell_type": "code",
   "execution_count": 29,
   "id": "nominated-fault",
   "metadata": {},
   "outputs": [],
   "source": [
    "#engine=create_engine(\"https://www.website.com\")\n",
    "engine=create_engine(f\"mysql+pymysql://{username}:{password}@{server}/{database}\")"
   ]
  },
  {
   "cell_type": "markdown",
   "id": "exceptional-interaction",
   "metadata": {},
   "source": [
    "## Function to execute the creation of every table as expected"
   ]
  },
  {
   "cell_type": "code",
   "execution_count": 30,
   "id": "removable-investigation",
   "metadata": {},
   "outputs": [
    {
     "data": {
      "text/plain": [
       "['berka.pdf',\n",
       " '.DS_Store',\n",
       " 'account.asc',\n",
       " 'card.asc',\n",
       " 'order.asc',\n",
       " 'disp.asc',\n",
       " 'loan.asc',\n",
       " 'client.asc',\n",
       " 'district.asc',\n",
       " 'trans.asc']"
      ]
     },
     "execution_count": 30,
     "metadata": {},
     "output_type": "execute_result"
    }
   ],
   "source": [
    "os.listdir('/Users/oleoaraujo/Downloads/czech')"
   ]
  },
  {
   "cell_type": "code",
   "execution_count": 38,
   "id": "widespread-religion",
   "metadata": {},
   "outputs": [],
   "source": [
    "def import_file():\n",
    "    for filename in os.listdir('/Users/oleoaraujo/Downloads/czech'):\n",
    "        if filename.endswith(\".asc\"):\n",
    "            table_to_import=pd.read_csv(filename, sep=\";\")\n",
    "            table_to_import.to_sql(filename[:-4], engine, if_exists='replace', index=False)"
   ]
  },
  {
   "cell_type": "code",
   "execution_count": 39,
   "id": "rolled-treatment",
   "metadata": {},
   "outputs": [],
   "source": [
    "import_file()"
   ]
  }
 ],
 "metadata": {
  "kernelspec": {
   "display_name": "Python 3",
   "language": "python",
   "name": "python3"
  },
  "language_info": {
   "codemirror_mode": {
    "name": "ipython",
    "version": 3
   },
   "file_extension": ".py",
   "mimetype": "text/x-python",
   "name": "python",
   "nbconvert_exporter": "python",
   "pygments_lexer": "ipython3",
   "version": "3.9.1"
  }
 },
 "nbformat": 4,
 "nbformat_minor": 5
}
